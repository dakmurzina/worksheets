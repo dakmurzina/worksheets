{
 "cells": [
  {
   "cell_type": "markdown",
   "metadata": {},
   "source": [
    "**1) Для заданного целого числа n выполнить следующие условные действия:**\n",
    "\n",
    "Если n нечетно, выведите Astana\n",
    "\n",
    "Если n чётно и находится в диапазоне от 2 до 5, выведите Алматы\n",
    "\n",
    "Если n чётно и находится в диапазоне от 6 до 20 включительно, выведите Astana\n",
    "\n",
    "Если n чётно и больше 20, выведите Алматы"
   ]
  },
  {
   "cell_type": "code",
   "execution_count": 2,
   "metadata": {},
   "outputs": [
    {
     "name": "stdout",
     "output_type": "stream",
     "text": [
      "Введите цифру: 2\n",
      "Алматы\n"
     ]
    }
   ],
   "source": [
    "#Код\n",
    "n = int(input(\"Введите цифру: \"))\n",
    "if n%2 != 0: \n",
    "    print(\"Astana\")\n",
    "elif n%2 ==0 and n in range(2,5):\n",
    "    print(\"Алматы\")\n",
    "elif n%2 ==0 and n in range(6,20):\n",
    "    print(\"Astana\")\n",
    "elif n%2 ==0 and n > 20:\n",
    "    print(\"Алматы\")\n"
   ]
  },
  {
   "cell_type": "markdown",
   "metadata": {},
   "source": [
    "**2) Дано целое число n. Для всех неотрицательных целых чисел i <n, выведите квадрат числа i.**"
   ]
  },
  {
   "cell_type": "code",
   "execution_count": 3,
   "metadata": {},
   "outputs": [
    {
     "name": "stdout",
     "output_type": "stream",
     "text": [
      "Введите цифру: 40\n",
      "0 1 4 9 16 25 36 49 64 81 100 121 144 169 196 225 256 289 324 361 400 441 484 529 576 625 676 729 784 841 900 961 1024 1089 1156 1225 1296 1369 1444 1521 "
     ]
    }
   ],
   "source": [
    "#Код\n",
    "n = int(input(\"Введите цифру: \"))\n",
    "for i in range(n):\n",
    "    if i < n:\n",
    "        expon = i ** 2\n",
    "        print(expon, end=\" \")"
   ]
  },
  {
   "cell_type": "markdown",
   "metadata": {},
   "source": [
    "**3) Дано целое число n.**\n",
    "\n",
    "Не используя строковые методы, попробуйте напечатать следующее:\n",
    "\n",
    "<code>123.....n</code>\n",
    "\n",
    "Обратите внимание, что <code> ... </code> представляет значения между ними."
   ]
  },
  {
   "cell_type": "code",
   "execution_count": 4,
   "metadata": {},
   "outputs": [
    {
     "name": "stdout",
     "output_type": "stream",
     "text": [
      "Введите цифру: 215\n",
      "123 124 125 126 127 128 129 130 131 132 133 134 135 136 137 138 139 140 141 142 143 144 145 146 147 148 149 150 151 152 153 154 155 156 157 158 159 160 161 162 163 164 165 166 167 168 169 170 171 172 173 174 175 176 177 178 179 180 181 182 183 184 185 186 187 188 189 190 191 192 193 194 195 196 197 198 199 200 201 202 203 204 205 206 207 208 209 210 211 212 213 214 215 "
     ]
    }
   ],
   "source": [
    "#Код\n",
    "n = int(input(\"Введите цифру: \"))\n",
    "for i in range(123,n+1):\n",
    "    print(i, end=\" \")"
   ]
  },
  {
   "cell_type": "markdown",
   "metadata": {},
   "source": [
    "**4) Какова сумма первых 10 натуральных чисел?**"
   ]
  },
  {
   "cell_type": "code",
   "execution_count": 4,
   "metadata": {},
   "outputs": [
    {
     "name": "stdout",
     "output_type": "stream",
     "text": [
      "55\n"
     ]
    }
   ],
   "source": [
    "#Код\n",
    "natural_number_sum=0 \n",
    "current_natural_number = 1\n",
    "while current_natural_number <=10:\n",
    "# we add the value of the variable current_natural_number to the variable natural_number_sum\n",
    "    natural_number_sum+=current_natural_number \n",
    "# we increase the value of current_natural_number for 1 in each loop \n",
    "    current_natural_number+=1 \n",
    "\n",
    "print(natural_number_sum)"
   ]
  },
  {
   "cell_type": "markdown",
   "metadata": {},
   "source": [
    "**5) Напишите программу на Python, которая принимает радиус круга от пользователя и вычисляет площадь.**\n",
    "\n",
    "**Tip**: <code>from math import pi</code>"
   ]
  },
  {
   "cell_type": "code",
   "execution_count": 5,
   "metadata": {},
   "outputs": [
    {
     "name": "stdout",
     "output_type": "stream",
     "text": [
      "Enter the radius of circle: 5\n",
      "78.53981633974483\n",
      "78\n"
     ]
    }
   ],
   "source": [
    "#Код\n",
    "from math import pi\n",
    "circle_radius = int(input(\"Enter the radius of circle: \"))\n",
    "circle_square = pi * (circle_radius **2)\n",
    "print(circle_square)\n",
    "print(int(circle_square)) # if we want to see the output in integer not floating number "
   ]
  },
  {
   "cell_type": "markdown",
   "metadata": {},
   "source": [
    "**6)  Напишите программу на Python, чтобы получить объем сферы с радиусом 7.**"
   ]
  },
  {
   "cell_type": "code",
   "execution_count": 6,
   "metadata": {},
   "outputs": [
    {
     "name": "stdout",
     "output_type": "stream",
     "text": [
      "Enter the radius of sphere: 7\n",
      "1436.7550402417319\n",
      "1436\n"
     ]
    }
   ],
   "source": [
    "#Код\n",
    "from math import pi\n",
    "sphere_radius = int(input(\"Enter the radius of sphere: \"))\n",
    "sphere_volume = (4/3)*pi*(sphere_radius**3)\n",
    "print(sphere_volume)\n",
    "print(int(sphere_volume)) # if we want to see the output in integer not floating number "
   ]
  },
  {
   "cell_type": "markdown",
   "metadata": {},
   "source": [
    "**7) Напишите программу на Python, которая принимает целое число n и вычисляет значение n + nn + nnn. (nn-двузначное число)**"
   ]
  },
  {
   "cell_type": "code",
   "execution_count": 7,
   "metadata": {},
   "outputs": [
    {
     "name": "stdout",
     "output_type": "stream",
     "text": [
      "Enter the number: 9\n",
      "429\n"
     ]
    }
   ],
   "source": [
    "#Код\n",
    "n = int(input(\"Enter the number: \"))\n",
    "sum_of_operation = n + 10 + 410\n",
    "print(sum_of_operation)"
   ]
  },
  {
   "cell_type": "markdown",
   "metadata": {},
   "source": [
    "**8) Напишите программу на Python, которая примет основание и высоту треугольника и вычислит площадь.**"
   ]
  },
  {
   "cell_type": "code",
   "execution_count": 8,
   "metadata": {},
   "outputs": [
    {
     "name": "stdout",
     "output_type": "stream",
     "text": [
      "Enter the base of triangle: 5\n",
      "Enter the height of triangle: 7\n",
      "17.5\n",
      "17\n"
     ]
    }
   ],
   "source": [
    "#Код\n",
    "base_of_triangle = int(input(\"Enter the base of triangle: \"))\n",
    "height_of_triangle = int(input(\"Enter the height of triangle: \"))\n",
    "square_of_triangle = 1/2*(base_of_triangle*height_of_triangle)\n",
    "print(square_of_triangle)\n",
    "print(int(square_of_triangle)) # if we want to see the output in integer not floating number "
   ]
  },
  {
   "cell_type": "markdown",
   "metadata": {},
   "source": [
    "**9) Напишите программу на Python для преобразования высоты (в футах и дюймах) в сантиметры.**"
   ]
  },
  {
   "cell_type": "code",
   "execution_count": 9,
   "metadata": {},
   "outputs": [
    {
     "name": "stdout",
     "output_type": "stream",
     "text": [
      "Enter the height in foot: 6\n",
      "Enter the height in inches: 7\n",
      "200.66\n"
     ]
    }
   ],
   "source": [
    "#Код\n",
    "foot = int(input(\"Enter the height in foot: \"))\n",
    "inch = int(input(\"Enter the height in inches: \"))\n",
    "converted_to_cm = (foot * 30.48) + (inch * 2.54)\n",
    "print(converted_to_cm)"
   ]
  },
  {
   "cell_type": "markdown",
   "metadata": {},
   "source": [
    "**10) Напишите программу на Python для вычисления расстояния между точками (x1, y1) и (x2, y2).**"
   ]
  },
  {
   "cell_type": "code",
   "execution_count": 10,
   "metadata": {},
   "outputs": [
    {
     "name": "stdout",
     "output_type": "stream",
     "text": [
      "10.63014581273465\n"
     ]
    }
   ],
   "source": [
    "#Код\n",
    "x1 = 2\n",
    "y1 = 5\n",
    "x2 = 9\n",
    "y2 = 13\n",
    "distance = (((x2-x1)**2) + ((y2-y1)**2)) ** (0.5)\n",
    "print(distance)\n",
    "# it is also possible to use math.sqrt if we are allowed to use it in this exercise"
   ]
  },
  {
   "cell_type": "markdown",
   "metadata": {},
   "source": [
    "**11) Напишите программу на Python для вычисления гипотенузы прямоугольного треугольника.**"
   ]
  },
  {
   "cell_type": "code",
   "execution_count": 11,
   "metadata": {},
   "outputs": [
    {
     "name": "stdout",
     "output_type": "stream",
     "text": [
      "8.602325267042627\n"
     ]
    }
   ],
   "source": [
    "#Код\n",
    "first_cath = 7\n",
    "second_cath = 5\n",
    "length_of_hypotenuse = ((first_cath ** 2) + (second_cath ** 2)) ** (0.5)\n",
    "print(length_of_hypotenuse)"
   ]
  },
  {
   "cell_type": "markdown",
   "metadata": {},
   "source": [
    "**12) Сколько натуральных чисел не больше 100 делиться на 7 и на 2?**"
   ]
  },
  {
   "cell_type": "code",
   "execution_count": 12,
   "metadata": {},
   "outputs": [
    {
     "name": "stdout",
     "output_type": "stream",
     "text": [
      "7\n"
     ]
    }
   ],
   "source": [
    "calculation_of_numbers = 0 \n",
    "natural_number = 1\n",
    "for number in range(100):\n",
    "    if number >= natural_number:\n",
    "        if number % 7 == 0 and number % 2 == 0:\n",
    "            calculation_of_numbers += 1 \n",
    "print(calculation_of_numbers)"
   ]
  },
  {
   "cell_type": "markdown",
   "metadata": {},
   "source": [
    "# Прекрасная работа!"
   ]
  }
 ],
 "metadata": {
  "kernelspec": {
   "display_name": "Python 3 (ipykernel)",
   "language": "python",
   "name": "python3"
  },
  "language_info": {
   "codemirror_mode": {
    "name": "ipython",
    "version": 3
   },
   "file_extension": ".py",
   "mimetype": "text/x-python",
   "name": "python",
   "nbconvert_exporter": "python",
   "pygments_lexer": "ipython3",
   "version": "3.9.13"
  }
 },
 "nbformat": 4,
 "nbformat_minor": 2
}
