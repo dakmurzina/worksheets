{
 "cells": [
  {
   "cell_type": "markdown",
   "metadata": {},
   "source": [
    "# Проверьте и найдите все ошибки в строках кода ниже и исправьте их. \n",
    "\n",
    "\n",
    "Пожалуйста, будьте осторожны, есть не только синтаксические ошибки, но и ошибки реализации. Чтобы исправить ошибки, связанные с реализациями, внимательно проверьте **ожидаемые результаты.**\n",
    "\n",
    "Некоторые из блоков кода содержат более одной ошибки, имейте это в виду.\n",
    "Запустите каждый блок кода, просмотрите сообщения об ошибках (или разницу с ожидаемыми результатами) и исправьте их (одно за другим).\n",
    "\n",
    "\n",
    "**Обратите внимание: не перезаписывайте код, просто исправьте ошибки, и коды будут работать.**"
   ]
  },
  {
   "cell_type": "code",
   "execution_count": 1,
   "metadata": {},
   "outputs": [
    {
     "name": "stdout",
     "output_type": "stream",
     "text": [
      "Hello my name is Brad\n"
     ]
    }
   ],
   "source": [
    "arr1 = [\"Hello\",\"my\",\"name\",\"is\"]\n",
    "name = \"Brad\"\n",
    "arr1 = arr1 + name.split(\" \")\n",
    "print(\" \".join(arr1))"
   ]
  },
  {
   "cell_type": "markdown",
   "metadata": {},
   "source": [
    "### Ожидаемый результат:\n",
    "```\n",
    "Hello my name is Brad\n",
    "```"
   ]
  },
  {
   "cell_type": "code",
   "execution_count": 2,
   "metadata": {},
   "outputs": [
    {
     "data": {
      "text/plain": [
       "(100, -10)"
      ]
     },
     "execution_count": 2,
     "metadata": {},
     "output_type": "execute_result"
    }
   ],
   "source": [
    "def findMaxMin(arr):\n",
    "    if len(arr) == 0:\n",
    "        return \"List is empty\"\n",
    "    else:\n",
    "        maxNum = max(arr)\n",
    "        minNum = min(arr)\n",
    "    return (maxNum, minNum)\n",
    "\n",
    "arr2 = [100,-10,20,1,0]\n",
    "findMaxMin(arr2)"
   ]
  },
  {
   "cell_type": "markdown",
   "metadata": {},
   "source": [
    "### Ожидаемый результат:\n",
    "```\n",
    "(100, -10)\n",
    "```"
   ]
  },
  {
   "cell_type": "code",
   "execution_count": 3,
   "metadata": {},
   "outputs": [
    {
     "name": "stdout",
     "output_type": "stream",
     "text": [
      "Brad Pitt USA\n"
     ]
    }
   ],
   "source": [
    "def concatStrings(*kwargs):\n",
    "    name = kwargs[0]\n",
    "    familyName = kwargs[1]\n",
    "    country = kwargs[2]\n",
    "    result = \" \".join([name, familyName, country])\n",
    "    return result\n",
    "\n",
    "print(concatStrings(\"Brad\", \"Pitt\", \"USA\"))"
   ]
  },
  {
   "cell_type": "markdown",
   "metadata": {},
   "source": [
    "### Ожидаемый результат:\n",
    "```\n",
    "Brad Pitt USA\n",
    "```"
   ]
  },
  {
   "cell_type": "code",
   "execution_count": 4,
   "metadata": {},
   "outputs": [
    {
     "name": "stdout",
     "output_type": "stream",
     "text": [
      "[2, 3, 4]\n"
     ]
    }
   ],
   "source": [
    "arr3 = list(range(20))\n",
    "\n",
    "\n",
    "def sliceList(arr, *args):\n",
    "    str_elem, end_elem, step_elem = args\n",
    "    return arr[str_elem:end_elem+1:step_elem]\n",
    "\n",
    "print(sliceList(arr3,2,4,1)) # Эта строка кода не содержит ошибок\n"
   ]
  },
  {
   "cell_type": "markdown",
   "metadata": {},
   "source": [
    "### Ожидаемый результат:\n",
    "```\n",
    "[2, 3, 4]\n",
    "```"
   ]
  },
  {
   "cell_type": "code",
   "execution_count": 5,
   "metadata": {},
   "outputs": [
    {
     "name": "stdout",
     "output_type": "stream",
     "text": [
      "List is None\n",
      "49.49999999999999\n"
     ]
    }
   ],
   "source": [
    "def calcMean(arr=None):\n",
    "    ave = 0\n",
    "    if not arr:\n",
    "        return \"List is None\"\n",
    "    else:\n",
    "        for num in arr:\n",
    "            ave += num/len(arr)\n",
    "        return ave\n",
    "\n",
    "arr4 = list(range(0,100,3))\n",
    "print(calcMean()) \n",
    "print(calcMean(arr4))"
   ]
  },
  {
   "cell_type": "markdown",
   "metadata": {},
   "source": [
    "### Ожидаемый результат:\n",
    "```\n",
    "List is None\n",
    "49.49999999999999\n",
    "```"
   ]
  },
  {
   "cell_type": "code",
   "execution_count": 6,
   "metadata": {},
   "outputs": [
    {
     "name": "stdout",
     "output_type": "stream",
     "text": [
      "0123\n",
      "4567\n",
      "89\n"
     ]
    }
   ],
   "source": [
    "def concatNumbers(arr):\n",
    "    ans = \"\"\n",
    "    for i in range(len(arr)):\n",
    "        ans += str(arr[i])\n",
    "        if (i+1) % 4 == 0:\n",
    "            ans += \"\\n\"\n",
    "    return ans\n",
    "\n",
    "arr5 = list(range(10))\n",
    "print(concatNumbers(arr5))"
   ]
  },
  {
   "cell_type": "markdown",
   "metadata": {},
   "source": [
    "### Ожидаемый результат:\n",
    "```\n",
    "0123\n",
    "4567\n",
    "89\n",
    "```"
   ]
  },
  {
   "cell_type": "code",
   "execution_count": 7,
   "metadata": {},
   "outputs": [
    {
     "name": "stdout",
     "output_type": "stream",
     "text": [
      "['.ipynb_checkpoints', 'files', 'filesfile_with_metaphor.txt', 'Worksheet-3-AkmurzinaD.ipynb', 'Worksheet-4-AkmurzinaDinara.ipynb', 'Worksheet0-AkmurzinaD.ipynb', 'Worksheet1-Akmurizna-D.ipynb', 'Worksheet1_Akmurizna_D.ipynb', 'Worksheet2-Akmurzina-D.ipynb', 'Worksheet2_Akmurzina_D.ipynb', 'Worksheet5-DinaraAkmurzina.ipynb', 'Worksheet6-DinaraAkmurzina.ipynb']\n"
     ]
    }
   ],
   "source": [
    "import os\n",
    "\n",
    "listFiles = os.listdir()\n",
    "\n",
    "print(listFiles)"
   ]
  },
  {
   "cell_type": "markdown",
   "metadata": {},
   "source": [
    "### Ожидаемый результат:\n",
    "\n",
    "**Список всех файлов в текущей рабочей папке.**\n",
    "\n",
    "Пример:\n",
    "\n",
    "```\n",
    "['.DS_Store', '.ipynb_checkpoints', '.Worksheet6.ipynb.swp', 'annual-enterprise-survey-2018-financial-year-provisional-csv.csv', 'Basics-hw1-prob.ipynb', 'Basics-hw1-sol.ipynb', 'Basics-hw2-prob.ipynb', 'Basics-hw2-sol.ipynb', 'Basics-hw3-prob.ipynb', 'Basics-hw4-prob.ipynb', 'Basics-hw5-prob.ipynb', 'Basics-hw5-sol.ipynb', 'Basics-hw6-prob.ipynb', 'Basics-hw6-sol.ipynb', 'Basics-hw7-prob.ipynb', 'Basics-hw7-sol.ipynb', 'Basics-hw8-prob.ipynb', 'Basics-hw8-sol.ipynb', 'figures.csv', 'Files-hw1-prob.ipynb', 'Files-hw2-prob.ipynb', 'Files-hw2-sol.ipynb', 'FizzBuzz_prob.ipynb', 'FizzBuzz_sol.ipynb', 'Functions-hw1-prob.ipynb', 'Functions-hw1-sol.ipynb', 'Functions-hw2-prob.ipynb', 'Functions-hw2-sol.ipynb', 'Functions-hw3-prob.ipynb', 'Functions-hw3-sol.ipynb', 'Modules-hw1', 'Modules-hw2', 'OOP-hw1-prob.ipynb', 'OOP-hw1-sol.ipynb', 'OOP-hw2-prob.ipynb', 'OOP-hw2-sol.ipynb', 'OOP-hw3-prob.ipynb', 'OOP-hw3-sol.ipynb', 'OOP-hw4-prob.ipynb', 'OOP-hw4-sol.ipynb', 'OOP-hw5-prob.ipynb', 'OOP-hw5-sol.ipynb', 'OOP-hw6-prob.ipynb', 'OOP-hw6-sol.ipynb', 'OOP-hw7-prob.ipynb', 'OOP-hw7-sol.ipynb', 'README.md', 'Worksheet0.ipynb', 'Worksheet1.ipynb', 'Worksheet2.ipynb', 'Worksheet3.ipynb', 'Worksheet4.ipynb', 'Worksheet5.ipynb', 'Worksheet6.ipynb']\n",
    "```"
   ]
  },
  {
   "cell_type": "code",
   "execution_count": 8,
   "metadata": {},
   "outputs": [
    {
     "name": "stdout",
     "output_type": "stream",
     "text": [
      "Metaphor: \"Kill two birds in one stone\"\n",
      "['file_with_metaphor.txt']\n"
     ]
    }
   ],
   "source": [
    "import os\n",
    "direc = \"./files\"\n",
    "directoryExists = os.path.exists(direc)\n",
    "\n",
    "text = 'Metaphor: \"Kill two birds in one stone\"'\n",
    "\n",
    "if not directoryExists:\n",
    "    os.mkdir(direc)\n",
    "    \n",
    "with open(os.path.join(direc, \"./file_with_metaphor.txt\"), \"w\") as output:\n",
    "    output.write(text)\n",
    "    \n",
    "with open(os.path.join(direc, \"./file_with_metaphor.txt\"), \"r\") as file:\n",
    "    text = file.read()\n",
    "    print(text)\n",
    "\n",
    "print(os.listdir(direc))"
   ]
  },
  {
   "cell_type": "markdown",
   "metadata": {},
   "source": [
    "### Ожидаемый результат:\n",
    "```\n",
    "Metaphor: \"Kill two birds in one stone\"\n",
    "['file_with_metaphor.txt']\n",
    "```"
   ]
  },
  {
   "cell_type": "code",
   "execution_count": 9,
   "metadata": {},
   "outputs": [
    {
     "name": "stdout",
     "output_type": "stream",
     "text": [
      "My name is Laika, I have 4 legs and can say Gaf Gaf. \n",
      "I am 3 years old\n"
     ]
    }
   ],
   "source": [
    "class Animal:\n",
    "    def __init__(self, kwargs):\n",
    "        self.__name__ = kwargs[\"name\"]\n",
    "        self.__num_legs__ = kwargs[\"num_legs\"]\n",
    "        self.__voice__ = kwargs[\"voice\"]\n",
    "    \n",
    "    def get_voice(self):\n",
    "        return self.__voice__\n",
    "    \n",
    "    def get_name(self):\n",
    "        return self.__name__\n",
    "    \n",
    "    def get_legs(self):\n",
    "        return self.__num_legs__\n",
    "    \n",
    "\n",
    "class Dog(Animal):\n",
    "    def __init__(self, name=None, voice=None, num_legs=None, age=None):\n",
    "        super().__init__({\"name\": name, \"num_legs\": num_legs, \"voice\": voice})\n",
    "        self.__age__ = age\n",
    "    \n",
    "    def get_age(self):\n",
    "        return self.__age__\n",
    "\n",
    "    def __str__(self):\n",
    "        return f\"My name is {self.get_name()}, I have {self.get_legs()} legs and can say {self.get_voice()}. \\nI am {self.get_age()} years old\"\n",
    "\n",
    "\n",
    "dog1 = Dog(\"Laika\",voice=\"Gaf Gaf\", num_legs=4, age=3)\n",
    "print(dog1)"
   ]
  },
  {
   "cell_type": "markdown",
   "metadata": {},
   "source": [
    "### Ожидаемый результат:\n",
    "```\n",
    "My name is Laika, I have 4 legs and can say Gaf Gaf. \n",
    "I am 3 years old\n",
    "```"
   ]
  },
  {
   "cell_type": "code",
   "execution_count": 10,
   "metadata": {},
   "outputs": [
    {
     "name": "stdout",
     "output_type": "stream",
     "text": [
      "John Wick is adult male\n"
     ]
    }
   ],
   "source": [
    "def generalInfo(gender=None, ageGroup=None):\n",
    "    def personInfo(name=None, familyName=None):\n",
    "        information = f\"{name} {familyName} is {ageGroup} {gender}\"\n",
    "        return information\n",
    "\n",
    "    return personInfo\n",
    "\n",
    "per1 = generalInfo(gender=\"male\",ageGroup=\"adult\")\n",
    "print(per1(name=\"John\", familyName=\"Wick\"))"
   ]
  },
  {
   "cell_type": "markdown",
   "metadata": {},
   "source": [
    "### Ожидаемый результат:\n",
    "```\n",
    "John Wick is adult male\n",
    "```"
   ]
  },
  {
   "cell_type": "code",
   "execution_count": 11,
   "metadata": {},
   "outputs": [
    {
     "name": "stdout",
     "output_type": "stream",
     "text": [
      "{'', 'clear,', 'included\"', 'introduced', 'unmodified', 'for', 'rossum', '0,', 'standard', '[27]', 'whitespace', 'approach', 'python', 'does', 'due', 'completely', 'small', 'created', 'released', 'is', 'was', 'programming', 'run', 'late', 'significant', 'garbage-collected', 'first', 'it', 'to', '1991,', 'procedural,', 'use', 'design', 'dynamically', 'paradigms,', 'library', 'large-scale', 'and', 'functional', 'conceived', '1980s', 'backward-compatible,', 'an', 'constructs', 'a', 'capable', 'in', '2000,', 'described', 'multiple', '3', 'typed', '[28]', 'features', 'on', 'by', 'language', 'supports', 'abc', 'not', '\"batteries', 'that', 'including', 'code', 'of', 'emphasizes', 'programmers', 'garbage', 'reference', 'comprehensions', 'logical', 'aim', 'system', '2', 'interpreted,', 'guido', 'notable', 'philosophy', 'general-purpose', 'collection', 'major', 'object-oriented', 'the', 'successor', 'as', 'its', 'help', 'van', '2008,', 'comprehensive', 'python`s', 'with', 'often', 'object-oriented,', 'list', 'projects', 'revision', 'readability', 'cycles', 'collecting', 'like', 'much', 'write', 'high-level,'}\n"
     ]
    }
   ],
   "source": [
    "def getVocab(inputString):\n",
    "    inputString = inputString.lower().replace(\".\", \" \")\n",
    "    parsed = inputString.split(\" \")\n",
    "    vocab = set(parsed)\n",
    "    return vocab, parsed\n",
    "\n",
    "wikipediaText = 'Python is an interpreted, high-level, general-purpose programming language. Created by Guido van Rossum and first released in 1991, Python`s design philosophy emphasizes code readability with its notable use of significant whitespace. Its language constructs and object-oriented approach aim to help programmers write clear, logical code for small and large-scale projects.[27] Python is dynamically typed and garbage-collected. It supports multiple programming paradigms, including procedural, object-oriented, and functional programming. Python is often described as a \"batteries included\" language due to its comprehensive standard library.[28] Python was conceived in the late 1980s as a successor to the ABC language. Python 2.0, released in 2000, introduced features like list comprehensions and a garbage collection system capable of collecting reference cycles. Python 3.0, released in 2008, was a major revision of the language that is not completely backward-compatible, and much Python 2 code does not run unmodified on Python 3.'\n",
    "\n",
    "vocab, parsed = getVocab(wikipediaText)\n",
    "print(vocab) \n",
    "# print(type(vocab)) ожидаемые результаты и мои результаты не совпадают, т.к. type(vocab) -> <class 'set'>\n",
    "# set не имеет порядка"
   ]
  },
  {
   "cell_type": "markdown",
   "metadata": {},
   "source": [
    "### Ожидаемый результат:\n",
    "```\n",
    "{'help', 'is', 'unmodified', 'functional', 'including', 'in', 'conceived', 'guido', 'reference', '1980s', '3', 'much', 'of', 'supports', '2000,', 'logical', 'system', 'with', 'rossum', 'completely', 'general-purpose', 'on', 'typed', 'readability', 'aim', 'often', 'interpreted,', 'list', 'object-oriented,', 'was', 'first', 'revision', 'object-oriented', 'clear,', 'backward-compatible,', 'procedural,', 'design', 'python', 'large-scale', 'described', 'a', 'notable', 'code', 'philosophy', 'capable', '[28]', '2008,', 'garbage-collected', 'van', 'that', 'created', 'comprehensions', 'abc', 'for', 'cycles', 'late', 'its', 'included\"', 'introduced', 'high-level,', 'library', '0,', 'write', 'garbage', 'run', 'as', 'programming', 'use', '\"batteries', 'due', 'significant', 'features', 'dynamically', 'multiple', 'not', 'standard', 'major', 'an', 'python`s', 'and', 'collecting', 'to', '2', 'projects', 'programmers', 'whitespace', 'collection', 'does', 'small', 'by', 'like', '1991,', 'emphasizes', 'it', 'successor', 'constructs', '[27]', 'approach', 'the', 'comprehensive', 'released', 'language', 'paradigms,'}\n",
    "```"
   ]
  },
  {
   "cell_type": "code",
   "execution_count": 12,
   "metadata": {},
   "outputs": [
    {
     "name": "stdout",
     "output_type": "stream",
     "text": [
      "[12, 19, 42, 74, 103, 78, 21, 56, 0, 17, 55, 75, 87, 6, 37, 26, 18, 46, 29, 90, 32, 77, 65, 63, 97, 91, 85, 76, 31, 64, 24, 10, 0, 85, 56, 43, 37, 81, 11, 71, 28, 86, 66, 102, 1, 70, 63, 5, 16, 37, 36, 95, 9, 12, 19, 33, 51, 37, 25, 0, 27, 57, 49, 21, 34, 62, 30, 93, 37, 38, 21, 0, 12, 19, 92, 48, 84, 44, 60, 2, 56, 14, 28, 85, 89, 8, 35, 52, 12, 20, 39, 46, 82, 23, 40, 84, 44, 83, 28, 82, 58, 56, 0, 12, 73, 7, 18, 46, 47, 3, 53, 100, 94, 69, 37, 44, 67, 79, 72, 45, 64, 99, 68, 98, 0, 12, 50, 7, 18, 46, 88, 20, 44, 80, 96, 64, 82, 56, 61, 19, 59, 15, 41, 37, 101, 12, 73, 63, 13, 59, 22, 4, 54, 12, 50, 0]\n"
     ]
    }
   ],
   "source": [
    "def generateVector(inputString):\n",
    "    vocab, parsed = getVocab(inputString)\n",
    "    word2idx = {}\n",
    "    for idx, word in enumerate(vocab): # т.к. type(vocab) -> <class 'set'> соответственно и индекс слов будет отличаться от ожидаемых результатов\n",
    "        word2idx[word] = idx\n",
    "        \n",
    "    vector = []\n",
    "    for word in parsed:\n",
    "        vector.append(word2idx[word])\n",
    "\n",
    "    return vector\n",
    "\n",
    "print(generateVector(wikipediaText))"
   ]
  },
  {
   "cell_type": "markdown",
   "metadata": {},
   "source": [
    "### Ожидаемый результат:\n",
    "```\n",
    "[37, 1, 77, 26, 59, 20, 66, 101, 50, 89, 7, 48, 18, 79, 30, 100, 5, 91, 78, 36, 43, 92, 42, 23, 17, 56, 41, 67, 12, 70, 85, 56, 101, 95, 79, 32, 97, 24, 81, 0, 84, 62, 33, 15, 42, 53, 88, 79, 38, 83, 96, 37, 1, 72, 22, 79, 47, 93, 13, 73, 66, 102, 4, 35, 28, 79, 3, 66, 37, 1, 25, 39, 65, 40, 68, 57, 101, 69, 81, 56, 99, 75, 60, 45, 37, 29, 6, 5, 98, 55, 9, 65, 40, 94, 81, 98, 52, 101, 37, 82, 61, 100, 5, 14, 58, 71, 90, 27, 51, 79, 40, 63, 86, 16, 44, 12, 80, 8, 54, 37, 10, 61, 100, 5, 46, 29, 40, 76, 31, 12, 98, 101, 49, 1, 74, 19, 34, 79, 11, 37, 82, 42, 87, 74, 64, 2, 21, 37, 10]\n",
    "```"
   ]
  },
  {
   "cell_type": "code",
   "execution_count": 13,
   "metadata": {},
   "outputs": [
    {
     "name": "stdout",
     "output_type": "stream",
     "text": [
      "My name is Lilly, and I am 4 years old. My gender is female\n"
     ]
    }
   ],
   "source": [
    "class Cat(Animal):\n",
    "    def __init__(self, name, age, gender):\n",
    "        super().__init__({\"name\": name, \"num_legs\": 4, \"voice\": \"meow\"})\n",
    "        self.__age__ = age\n",
    "        self.__gender__ = gender\n",
    "    \n",
    "    def __str__(self):\n",
    "        return f\"My name is {self.get_name()}, and I am {self.__age__} years old. My gender is {self.__gender__}\"\n",
    "\n",
    "cat1 = Cat(\"Lilly\",4,\"female\")\n",
    "print(cat1)"
   ]
  },
  {
   "cell_type": "markdown",
   "metadata": {},
   "source": [
    "### Ожидаемый результат:\n",
    "```\n",
    "My name is Lilly, and I am 4 years old. My gender is female\n",
    "```"
   ]
  },
  {
   "cell_type": "code",
   "execution_count": 14,
   "metadata": {},
   "outputs": [
    {
     "name": "stdout",
     "output_type": "stream",
     "text": [
      "My name is Jackie, I am 1 years old. I have 4 legs\n"
     ]
    }
   ],
   "source": [
    "class Puppy(Dog):\n",
    "    def __init__(self, name=None, age=None, gender=None, num_legs=None):\n",
    "        super().__init__(name=name, age=age, voice=\"Gaf Gaf\", num_legs=num_legs)\n",
    "        self.gender=gender\n",
    "    \n",
    "    def __str__(self):\n",
    "        return f\"My name is {self.get_name()}, I am {self.get_age()} years old. I have {self.get_legs()} legs\"\n",
    "\n",
    "pup1 = Puppy(name=\"Jackie\", age=1, gender=\"male\", num_legs=4)\n",
    "print(pup1)"
   ]
  },
  {
   "cell_type": "markdown",
   "metadata": {},
   "source": [
    "### Ожидаемый результат:\n",
    "```\n",
    "My name is Jackie, I am 1 years old. I have 4 legs\n",
    "```"
   ]
  },
  {
   "cell_type": "markdown",
   "metadata": {},
   "source": [
    "# Прекрасная Работа!!!"
   ]
  }
 ],
 "metadata": {
  "kernelspec": {
   "display_name": "Python 3 (ipykernel)",
   "language": "python",
   "name": "python3"
  },
  "language_info": {
   "codemirror_mode": {
    "name": "ipython",
    "version": 3
   },
   "file_extension": ".py",
   "mimetype": "text/x-python",
   "name": "python",
   "nbconvert_exporter": "python",
   "pygments_lexer": "ipython3",
   "version": "3.9.13"
  }
 },
 "nbformat": 4,
 "nbformat_minor": 2
}
