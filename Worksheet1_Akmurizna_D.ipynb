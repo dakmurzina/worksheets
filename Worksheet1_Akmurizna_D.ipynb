{
 "cells": [
  {
   "cell_type": "markdown",
   "metadata": {
    "id": "g0UwALvlzjbG"
   },
   "source": [
    "**1) Для заданного целого числа n выполнить следующие условные действия:**\n",
    "\n",
    "Если n нечетно, выведите Astana\n",
    "\n",
    "Если n чётно и находится в диапазоне от 2 до 5, выведите Алматы\n",
    "\n",
    "Если n чётно и находится в диапазоне от 6 до 20 включительно, выведите Astana\n",
    "\n",
    "Если n чётно и больше 20, выведите Алматы"
   ]
  },
  {
   "cell_type": "code",
   "execution_count": 1,
   "metadata": {
    "id": "zLGWjsI6zjbd",
    "outputId": "8b8d9bfe-7a2d-4c43-f9d3-87edd090047f"
   },
   "outputs": [
    {
     "name": "stdout",
     "output_type": "stream",
     "text": [
      "Введите цифру: 5\n",
      "Astana\n"
     ]
    }
   ],
   "source": [
    "#Код\n",
    "n = int(input(\"Введите цифру: \"))\n",
    "if n%2 != 0: \n",
    "    print(\"Astana\")\n",
    "elif n%2 ==0 and n in range(2,5):\n",
    "    print(\"Алматы\")\n",
    "elif n%2 ==0 and n in range(6,20):\n",
    "    print(\"Astana\")\n",
    "elif n%2 ==0 and n > 20:\n",
    "    print(\"Алматы\")\n"
   ]
  },
  {
   "cell_type": "markdown",
   "metadata": {
    "id": "U7exPQXuzjbg"
   },
   "source": [
    "**2) Дано целое число n. Для всех неотрицательных целых чисел i <n, выведите квадрат числа i.**"
   ]
  },
  {
   "cell_type": "code",
   "execution_count": 2,
   "metadata": {
    "id": "s7tTnvH2zjbh",
    "outputId": "dc2c3447-6a40-450b-d8a2-a3f697e4c05c"
   },
   "outputs": [
    {
     "name": "stdout",
     "output_type": "stream",
     "text": [
      "Введите цифру: 7\n",
      "0 1 4 9 16 25 36 "
     ]
    }
   ],
   "source": [
    "#Код\n",
    "n = int(input(\"Введите цифру: \"))\n",
    "for i in range(n):\n",
    "    if i < n:\n",
    "        expon = i ** 2\n",
    "        print(expon, end=\" \")"
   ]
  },
  {
   "cell_type": "markdown",
   "metadata": {
    "id": "JYfwebV6zjbh"
   },
   "source": [
    "**3) Дано целое число n.**\n",
    "\n",
    "Не используя строковые методы, попробуйте напечатать следующее:\n",
    "\n",
    "<code>123.....n</code>\n",
    "\n",
    "Обратите внимание, что <code> ... </code> представляет значения между ними."
   ]
  },
  {
   "cell_type": "code",
   "execution_count": 3,
   "metadata": {
    "colab": {
     "base_uri": "https://localhost:8080/"
    },
    "id": "p-xcp9p0zjbi",
    "outputId": "2cd28c1e-1116-498d-b272-24c4a89465ab"
   },
   "outputs": [
    {
     "name": "stdout",
     "output_type": "stream",
     "text": [
      "Введите цифру: 10\n",
      "12345678910"
     ]
    }
   ],
   "source": [
    "#Код\n",
    "n = int(input(\"Введите цифру: \"))\n",
    "for i in range(1,n+1):\n",
    "    print(i, end=\"\")"
   ]
  },
  {
   "cell_type": "markdown",
   "metadata": {
    "id": "u5F6Nb4Fzjbi"
   },
   "source": [
    "**4) Какова сумма первых 10 натуральных чисел?**"
   ]
  },
  {
   "cell_type": "code",
   "execution_count": 4,
   "metadata": {
    "id": "LWxXufP1zjbj",
    "outputId": "503ecf66-ab4c-4d1b-d259-472c715cfd55"
   },
   "outputs": [
    {
     "name": "stdout",
     "output_type": "stream",
     "text": [
      "55\n"
     ]
    }
   ],
   "source": [
    "#Код\n",
    "natural_number_sum=0 \n",
    "current_natural_number = 1\n",
    "while current_natural_number <=10:\n",
    "# we add the value of the variable current_natural_number to the variable natural_number_sum\n",
    "    natural_number_sum+=current_natural_number \n",
    "# we increase the value of current_natural_number for 1 in each loop \n",
    "    current_natural_number+=1 \n",
    "\n",
    "print(natural_number_sum)"
   ]
  },
  {
   "cell_type": "markdown",
   "metadata": {
    "id": "TL9Vyxihzjbj"
   },
   "source": [
    "**5) Напишите программу на Python, которая принимает радиус круга от пользователя и вычисляет площадь.**\n",
    "\n",
    "**Tip**: <code>from math import pi</code>"
   ]
  },
  {
   "cell_type": "code",
   "execution_count": 5,
   "metadata": {
    "id": "1T328dThzjbk",
    "outputId": "898c56c2-ab9e-4399-befe-9b0c59a0bf39"
   },
   "outputs": [
    {
     "name": "stdout",
     "output_type": "stream",
     "text": [
      "Enter the radius of circle: 6\n",
      "113.09733552923255\n"
     ]
    }
   ],
   "source": [
    "#Код\n",
    "from math import pi\n",
    "circle_radius = int(input(\"Enter the radius of circle: \"))\n",
    "circle_square = pi * (circle_radius **2)\n",
    "print(circle_square) # if we want to see the output in integer not floating number "
   ]
  },
  {
   "cell_type": "markdown",
   "metadata": {
    "id": "KlgS19pxzjbk"
   },
   "source": [
    "**6)  Напишите программу на Python, чтобы получить объем сферы с радиусом 7.**"
   ]
  },
  {
   "cell_type": "code",
   "execution_count": 6,
   "metadata": {
    "id": "A03NAAF1zjbl",
    "outputId": "1b2c6909-364b-4ad7-fd2d-ff675dde9006"
   },
   "outputs": [
    {
     "name": "stdout",
     "output_type": "stream",
     "text": [
      "Enter the radius of sphere: 7\n",
      "1436.7550402417319\n"
     ]
    }
   ],
   "source": [
    "#Код\n",
    "from math import pi\n",
    "sphere_radius = int(input(\"Enter the radius of sphere: \"))\n",
    "sphere_volume = (4/3)*pi*(sphere_radius**3)\n",
    "print(sphere_volume) # if we want to see the output in integer not floating number "
   ]
  },
  {
   "cell_type": "markdown",
   "metadata": {
    "id": "cx2_dDtZzjbl"
   },
   "source": [
    "**7) Напишите программу на Python, которая принимает целое число n и вычисляет значение n + nn + nnn. (nn-двузначное число)**"
   ]
  },
  {
   "cell_type": "code",
   "execution_count": 7,
   "metadata": {
    "colab": {
     "base_uri": "https://localhost:8080/"
    },
    "id": "A12NI2GTzjbm",
    "outputId": "b92caa2f-8619-4d9e-b989-402bfcdf2d0d"
   },
   "outputs": [
    {
     "name": "stdout",
     "output_type": "stream",
     "text": [
      "Enter the number: 5\n",
      "615\n"
     ]
    }
   ],
   "source": [
    "#Код\n",
    "n = int(input(\"Enter the number: \"))\n",
    "nn = n*11\n",
    "nnn = n*111\n",
    "sum_of_operation = n + nn + nnn\n",
    "print(sum_of_operation)"
   ]
  },
  {
   "cell_type": "markdown",
   "metadata": {
    "id": "EaoIiiLmzjbm"
   },
   "source": [
    "**8) Напишите программу на Python, которая примет основание и высоту треугольника и вычислит площадь.**"
   ]
  },
  {
   "cell_type": "code",
   "execution_count": 8,
   "metadata": {
    "id": "51TtcsbXzjbm",
    "outputId": "110a71f5-f163-46bf-faa9-8ec765499cc8"
   },
   "outputs": [
    {
     "name": "stdout",
     "output_type": "stream",
     "text": [
      "Enter the base of triangle: 8\n",
      "Enter the height of triangle: 2\n",
      "8.0\n"
     ]
    }
   ],
   "source": [
    "#Код\n",
    "base_of_triangle = int(input(\"Enter the base of triangle: \"))\n",
    "height_of_triangle = int(input(\"Enter the height of triangle: \"))\n",
    "square_of_triangle = 1/2*(base_of_triangle*height_of_triangle)\n",
    "print(square_of_triangle) # if we want to see the output in integer not floating number "
   ]
  },
  {
   "cell_type": "markdown",
   "metadata": {
    "id": "5lBP2m1azjbn"
   },
   "source": [
    "**9) Напишите программу на Python для преобразования высоты (в футах и дюймах) в сантиметры.**"
   ]
  },
  {
   "cell_type": "code",
   "execution_count": 9,
   "metadata": {
    "id": "saAUn9Kqzjbn",
    "outputId": "71db6ba9-bdc1-4650-fcba-fc590832f700"
   },
   "outputs": [
    {
     "name": "stdout",
     "output_type": "stream",
     "text": [
      "Enter the height in foot: 7\n",
      "Enter the height in inches: 7\n",
      "231.14000000000001\n"
     ]
    }
   ],
   "source": [
    "#Код\n",
    "foot = int(input(\"Enter the height in foot: \"))\n",
    "inch = int(input(\"Enter the height in inches: \"))\n",
    "converted_to_cm = (foot * 30.48) + (inch * 2.54)\n",
    "print(converted_to_cm)"
   ]
  },
  {
   "cell_type": "markdown",
   "metadata": {
    "id": "oFscdR31zjbo"
   },
   "source": [
    "**10) Напишите программу на Python для вычисления расстояния между точками (x1, y1) и (x2, y2).**"
   ]
  },
  {
   "cell_type": "code",
   "execution_count": 10,
   "metadata": {
    "id": "_IgKrJnpzjbo",
    "outputId": "0edde7af-c2b6-4f04-c41f-f3afa0c80333"
   },
   "outputs": [
    {
     "name": "stdout",
     "output_type": "stream",
     "text": [
      "10.63014581273465\n"
     ]
    }
   ],
   "source": [
    "#Код\n",
    "x1 = 2\n",
    "y1 = 5\n",
    "x2 = 9\n",
    "y2 = 13\n",
    "distance = (((x2-x1)**2) + ((y2-y1)**2)) ** (0.5)\n",
    "print(distance)\n",
    "# it is also possible to use math.sqrt if we are allowed to use it in this exercise"
   ]
  },
  {
   "cell_type": "markdown",
   "metadata": {
    "id": "O6Z0sAzpzjbo"
   },
   "source": [
    "**11) Напишите программу на Python для вычисления гипотенузы прямоугольного треугольника.**"
   ]
  },
  {
   "cell_type": "code",
   "execution_count": 11,
   "metadata": {
    "id": "DpJrvBKczjbp",
    "outputId": "be33b86a-0a56-4457-a779-892b14034a92"
   },
   "outputs": [
    {
     "name": "stdout",
     "output_type": "stream",
     "text": [
      "8.602325267042627\n"
     ]
    }
   ],
   "source": [
    "#Код\n",
    "first_cath = 7\n",
    "second_cath = 5\n",
    "length_of_hypotenuse = ((first_cath ** 2) + (second_cath ** 2)) ** (0.5)\n",
    "print(length_of_hypotenuse)"
   ]
  },
  {
   "cell_type": "markdown",
   "metadata": {
    "id": "2LycHO88zjbp"
   },
   "source": [
    "**12) Сколько натуральных чисел не больше 100 делиться на 7 и на 2?**"
   ]
  },
  {
   "cell_type": "code",
   "execution_count": 12,
   "metadata": {
    "id": "40RE0r4Tzjbp",
    "outputId": "015005c6-9117-420a-a3ff-a32ce48434aa"
   },
   "outputs": [
    {
     "name": "stdout",
     "output_type": "stream",
     "text": [
      "7\n"
     ]
    }
   ],
   "source": [
    "calculation_of_numbers = 0 \n",
    "natural_number = 1\n",
    "for number in range(100):\n",
    "    if number >= natural_number:\n",
    "        if number % 7 == 0 and number % 2 == 0:\n",
    "            calculation_of_numbers += 1 \n",
    "print(calculation_of_numbers)"
   ]
  },
  {
   "cell_type": "markdown",
   "metadata": {
    "id": "g_f65VDazjbq"
   },
   "source": [
    "# Прекрасная работа!"
   ]
  }
 ],
 "metadata": {
  "colab": {
   "provenance": []
  },
  "kernelspec": {
   "display_name": "Python 3 (ipykernel)",
   "language": "python",
   "name": "python3"
  },
  "language_info": {
   "codemirror_mode": {
    "name": "ipython",
    "version": 3
   },
   "file_extension": ".py",
   "mimetype": "text/x-python",
   "name": "python",
   "nbconvert_exporter": "python",
   "pygments_lexer": "ipython3",
   "version": "3.9.13"
  }
 },
 "nbformat": 4,
 "nbformat_minor": 1
}
