{
 "cells": [
  {
   "cell_type": "markdown",
   "metadata": {},
   "source": [
    "1) Напишите функцию, которая возвращает сумму двух чисел.\n",
    "\n",
    "Например: для param1 = 1 и param2 = 2 результат должен быть\n",
    "add(param1, param2) = 3."
   ]
  },
  {
   "cell_type": "code",
   "execution_count": 1,
   "metadata": {},
   "outputs": [
    {
     "data": {
      "text/plain": [
       "3"
      ]
     },
     "execution_count": 1,
     "metadata": {},
     "output_type": "execute_result"
    }
   ],
   "source": [
    "def add(param1,param2):\n",
    "    # Code here\n",
    "    return param1 + param2\n",
    "add(1, 2)"
   ]
  },
  {
   "cell_type": "markdown",
   "metadata": {},
   "source": [
    "2) Дано год, верните тот век, в котором он находится. Первый век охватывает период с 1 года до 100 года включительно, второй - с 101 года до 200 года включительно и т. д.\n",
    "\n",
    "Например: Для year = 1905 результат должен быть centuryFromYear(year) = 20;\n",
    "Для year = 1700, результат должен быть centuryFromYear(year) = 17."
   ]
  },
  {
   "cell_type": "code",
   "execution_count": 2,
   "metadata": {},
   "outputs": [
    {
     "name": "stdout",
     "output_type": "stream",
     "text": [
      "20\n",
      "19\n",
      "1\n",
      "2\n"
     ]
    }
   ],
   "source": [
    "def centuryFromYear(year):\n",
    "    # Code here\n",
    "    centure = (year + 99) // 100\n",
    "    return centure\n",
    "\n",
    "print(centuryFromYear(2000))\n",
    "print(centuryFromYear(1900))\n",
    "print(centuryFromYear(1))\n",
    "print(centuryFromYear(101))"
   ]
  },
  {
   "cell_type": "markdown",
   "metadata": {},
   "source": [
    "3) Напишите функцию,которая проверяет строку является ли та палиндромом (палиндром - это строка, которая читается одинаково слева направо и справа налево).\n",
    "\n",
    "Например: Для inputString = \"aabaa\" вывод должен быть checkPalindrome(inputString) = true;\n",
    "\n",
    "Для inputString = \"abac\" вывод должен быть checkPalindrome(inputString) = false; \n",
    "\n",
    "Для inputString = \"a\" вывод должен быть checkPalindrome(inputString) = true."
   ]
  },
  {
   "cell_type": "code",
   "execution_count": 3,
   "metadata": {},
   "outputs": [
    {
     "name": "stdout",
     "output_type": "stream",
     "text": [
      "False\n",
      "True\n"
     ]
    }
   ],
   "source": [
    "def checkPalindrome(inputString):\n",
    "    # Code here\n",
    "    if \"\".join(reversed(list(inputString))) == inputString:\n",
    "        return True\n",
    "    else:\n",
    "        return False\n",
    "\n",
    "print(checkPalindrome(\"abac\"))\n",
    "print(checkPalindrome(\"abba\"))"
   ]
  },
  {
   "cell_type": "markdown",
   "metadata": {},
   "source": [
    "4) Вам дается двузначное целое число n. Вернуть сумму своих цифр.\n",
    "\n",
    "Например: для n = 29 вывод должен быть addTwoDigits(n) = 11."
   ]
  },
  {
   "cell_type": "code",
   "execution_count": 4,
   "metadata": {},
   "outputs": [
    {
     "data": {
      "text/plain": [
       "10"
      ]
     },
     "execution_count": 4,
     "metadata": {},
     "output_type": "execute_result"
    }
   ],
   "source": [
    "def addTwoDigits(n):\n",
    "    # Code here\n",
    "    my_string = str(n)\n",
    "    sum_of_digits=0\n",
    "    for i in range(len(my_string)):\n",
    "        sum_of_digits += int(my_string[i])\n",
    "    return sum_of_digits\n",
    "\n",
    "addTwoDigits(55)"
   ]
  },
  {
   "cell_type": "markdown",
   "metadata": {},
   "source": [
    "5) Получив целое число n, верните наибольшее число, которое содержит ровно n цифр.\n",
    "\n",
    "Например: Для n = 2 результат должен быть largestNumber(n) = 99."
   ]
  },
  {
   "cell_type": "code",
   "execution_count": 5,
   "metadata": {},
   "outputs": [
    {
     "data": {
      "text/plain": [
       "999"
      ]
     },
     "execution_count": 5,
     "metadata": {},
     "output_type": "execute_result"
    }
   ],
   "source": [
    "def largestNumber(n):\n",
    "    # Code here\n",
    "    num = \"\" \n",
    "    for i in range(n):\n",
    "        num += \"9\"\n",
    "    return int(num)\n",
    "\n",
    "largestNumber(3)"
   ]
  },
  {
   "cell_type": "markdown",
   "metadata": {},
   "source": [
    "6) Вам дано три целых числа, a, b и c. Гарантируется, что два из этих целых равны друг другу. Каково значение третьего целого числа?\n",
    "\n",
    "Например: Для a = 2, b = 7 и c = 2 вывод должен быть extraNumber (a, b, c) = 7. Два равных числа - это a и c. Третье число b равно 7, что является ответом."
   ]
  },
  {
   "cell_type": "code",
   "execution_count": 6,
   "metadata": {},
   "outputs": [
    {
     "data": {
      "text/plain": [
       "5"
      ]
     },
     "execution_count": 6,
     "metadata": {},
     "output_type": "execute_result"
    }
   ],
   "source": [
    "def extraNumber(a, b, c):\n",
    "    # Code here\n",
    "    if a == b:\n",
    "        return c\n",
    "    elif a == c:\n",
    "        return b\n",
    "    else:\n",
    "        return a\n",
    "\n",
    "\n",
    "extraNumber(3, 5, 3)"
   ]
  },
  {
   "cell_type": "markdown",
   "metadata": {},
   "source": [
    "7) Напишите функцию Python, которая принимает последовательность чисел и определяет, все ли числа отличаются друг от друга.\n",
    "\n",
    "Например: Для [1,5,7,9] вывод должен быть print(test_distinct([1,5,7,9])) = True, для [2,4,5,5,7,9] вывод должен быть print(test_distinct([2,4,5,5,7,9])) = False. "
   ]
  },
  {
   "cell_type": "code",
   "execution_count": 7,
   "metadata": {},
   "outputs": [
    {
     "name": "stdout",
     "output_type": "stream",
     "text": [
      "True\n",
      "False\n"
     ]
    }
   ],
   "source": [
    "def test_distinct(data):\n",
    "    # Code here\n",
    "    if len(set(data)) == len(data):\n",
    "        return True\n",
    "    else:\n",
    "        return False  \n",
    "print(test_distinct([1,5,7,9]))\n",
    "print(test_distinct([2,4,5,5,7,9]))"
   ]
  },
  {
   "cell_type": "markdown",
   "metadata": {},
   "source": [
    "8) Напишите функцию Python для суммирования всех чисел в списке.\n",
    "\n",
    "Например: Для [8,2,3,0,7] вывод должен быть sum([8,2,3,0,7]) = 20."
   ]
  },
  {
   "cell_type": "code",
   "execution_count": 8,
   "metadata": {},
   "outputs": [
    {
     "data": {
      "text/plain": [
       "20"
      ]
     },
     "execution_count": 8,
     "metadata": {},
     "output_type": "execute_result"
    }
   ],
   "source": [
    "def sum(numbers):\n",
    "    # Code here\n",
    "    sum_of_numbers = 0 \n",
    "    for i, num in enumerate(numbers):\n",
    "        sum_of_numbers+=num\n",
    "    return sum_of_numbers\n",
    "\n",
    "\n",
    "sum([8,2,3,0,7])"
   ]
  },
  {
   "cell_type": "markdown",
   "metadata": {},
   "source": [
    "9) Напишите функцию Python, которая принимает число в качестве параметра и проверяет, является ли число простым или нет.\n",
    "\n",
    "Примечание. Простое число - это натуральное число, больше 1, которое не имеет положительных делителей, кроме 1 и самого себя.\n",
    "\n",
    "Например: Для числа 9 вывод должен быть test_prime(9) = False, a для числа 9 вывод должен быть test_prime(19) = True. "
   ]
  },
  {
   "cell_type": "code",
   "execution_count": 9,
   "metadata": {},
   "outputs": [
    {
     "name": "stdout",
     "output_type": "stream",
     "text": [
      "False\n",
      "True\n"
     ]
    }
   ],
   "source": [
    "def test_prime(n):\n",
    "    # Code here\n",
    "    if n>0: # if the given number is higher than zero\n",
    "        count = 0 # assign zero to a variable count\n",
    "        for i in range(2, n): # iterate through the range from 2 to the given number \n",
    "            if n%i==0: # if the given number is devided by each number between 2 and itself without remainders\n",
    "                return False # add one to the value of the variable count\n",
    "        if count == 0: # if the given number is not devided by other numbersbetween 2 and itself without remainders the count is equal to zero\n",
    "            return True\n",
    "\n",
    "print(test_prime(9))\n",
    "print(test_prime(19))"
   ]
  },
  {
   "cell_type": "markdown",
   "metadata": {},
   "source": [
    "10) Некоторые люди стоят в ряд в парке. Между ними есть деревья, которые не могут быть перемещены. Ваша задача состоит в том, чтобы переставить людей по их высоте в не убывающем порядке, не перемещая деревья. Люди могут быть очень высокими!\n",
    "\n",
    "Например: Для a = [-1, 150, 190, 170, -1, -1, 160, 180] вывод должен быть sortByHeight(a) = [-1, 150, 160, 170, -1, -1, 180, 190].\n",
    "\n"
   ]
  },
  {
   "cell_type": "code",
   "execution_count": 10,
   "metadata": {},
   "outputs": [
    {
     "data": {
      "text/plain": [
       "[-1, 150, 160, 170, -1, -1, 180, 190]"
      ]
     },
     "execution_count": 10,
     "metadata": {},
     "output_type": "execute_result"
    }
   ],
   "source": [
    "def sortByHeight(a):\n",
    "    # Code here\n",
    "    new_list = []  # creating a new empty list\n",
    "    for i in range(len(a)): # iterate through the length of the given list\n",
    "        if a[i] > 0: # if the element in the position i is higher than zero\n",
    "            new_list.append(a[i]) # add this element into newly created empty list\n",
    "            a[i]=\" \" # and replace the element with an empty space\n",
    "    new_list.sort(reverse=True) # sort the list with all the numbers higher than 0 from the biggest to the smallest \n",
    "    for i in range(len(a)): # iterate through the length of the given list with empty spaces instead of the numbers higher than zero \n",
    "        if a[i] == \" \": # if the element is an empty space\n",
    "            a[i] = new_list.pop() # replace it with the last number in the list new_list\n",
    "    return a \n",
    "sortByHeight([-1, 150, 190, 170, -1, -1, 160, 180])"
   ]
  },
  {
   "cell_type": "code",
   "execution_count": 11,
   "metadata": {},
   "outputs": [
    {
     "data": {
      "text/plain": [
       "[-1, 150, 160, 170, -1, -1, 180, 190]"
      ]
     },
     "execution_count": 11,
     "metadata": {},
     "output_type": "execute_result"
    }
   ],
   "source": [
    "def sortByHeigh(a):\n",
    "    import numpy as np\n",
    "    new_container = np.array(a) # creating a multidimentional container with the help of numpy library\n",
    "    new_container[np.nonzero(new_container>0)] = np.sort(new_container[new_container>0])\n",
    "    result = new_container.tolist()\n",
    "    return result\n",
    "sortByHeight([-1, 150, 190, 170, -1, -1, 160, 180])"
   ]
  },
  {
   "cell_type": "markdown",
   "metadata": {},
   "source": [
    "# Прекрасная Работа!!!"
   ]
  }
 ],
 "metadata": {
  "kernelspec": {
   "display_name": "Python 3 (ipykernel)",
   "language": "python",
   "name": "python3"
  },
  "language_info": {
   "codemirror_mode": {
    "name": "ipython",
    "version": 3
   },
   "file_extension": ".py",
   "mimetype": "text/x-python",
   "name": "python",
   "nbconvert_exporter": "python",
   "pygments_lexer": "ipython3",
   "version": "3.9.13"
  }
 },
 "nbformat": 4,
 "nbformat_minor": 2
}
