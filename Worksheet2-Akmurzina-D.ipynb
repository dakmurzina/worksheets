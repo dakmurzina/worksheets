{
 "cells": [
  {
   "cell_type": "markdown",
   "metadata": {},
   "source": [
    "**Напечатайте свое имя и фамилию**\n",
    "Динара Акмурзина\n",
    "Dinara Akmurzina"
   ]
  },
  {
   "cell_type": "markdown",
   "metadata": {},
   "source": [
    "# СТРОКИ"
   ]
  },
  {
   "cell_type": "markdown",
   "metadata": {},
   "source": [
    "1) Учитывая строку \"Able\", дайте команду index, которая возвращает 'e'. Введите свой код в ячейку ниже:"
   ]
  },
  {
   "cell_type": "code",
   "execution_count": 1,
   "metadata": {},
   "outputs": [
    {
     "name": "stdout",
     "output_type": "stream",
     "text": [
      "e\n",
      "e\n"
     ]
    }
   ],
   "source": [
    "s = \"Able Academy\"\n",
    "# Распечатайте «е» с использованием индексирование\n",
    "for index in range(len(s)): # 0, 1, 2, 3\n",
    "    if s[index] == \"e\":\n",
    "        print(s[index])"
   ]
  },
  {
   "cell_type": "markdown",
   "metadata": {},
   "source": [
    "2) Переверните строку \"Able\""
   ]
  },
  {
   "cell_type": "code",
   "execution_count": 2,
   "metadata": {},
   "outputs": [
    {
     "name": "stdout",
     "output_type": "stream",
     "text": [
      "elbA\n"
     ]
    }
   ],
   "source": [
    "s = \"Able\"\n",
    "# Переверните строку \"Able\"\n",
    "reversed_word = reversed(s)\n",
    "reversed_word = \"\".join(reversed_word)\n",
    "print(reversed_word)"
   ]
  },
  {
   "cell_type": "markdown",
   "metadata": {},
   "source": [
    "3) Учитывая строку \"Able\", приведите два метода получения буквы 'l' с использованием индексации."
   ]
  },
  {
   "cell_type": "code",
   "execution_count": 3,
   "metadata": {},
   "outputs": [
    {
     "name": "stdout",
     "output_type": "stream",
     "text": [
      "l\n"
     ]
    }
   ],
   "source": [
    "# Распечатайте «l»\n",
    "# Метод 1\n",
    "my_string = \"Able\"\n",
    "print(my_string[2]) #indexing from the front"
   ]
  },
  {
   "cell_type": "code",
   "execution_count": 4,
   "metadata": {},
   "outputs": [
    {
     "name": "stdout",
     "output_type": "stream",
     "text": [
      "l\n"
     ]
    }
   ],
   "source": [
    "my_string = \"Able\"# Метод 2\n",
    "print(my_string[-2]) # indexing from the back"
   ]
  },
  {
   "cell_type": "markdown",
   "metadata": {},
   "source": [
    "4) Какова длина строки \"Able\"?"
   ]
  },
  {
   "cell_type": "code",
   "execution_count": 5,
   "metadata": {},
   "outputs": [
    {
     "name": "stdout",
     "output_type": "stream",
     "text": [
      "4\n"
     ]
    }
   ],
   "source": [
    "# Код\n",
    "my_string = \"Able\"\n",
    "print(len(my_string)) # to print the length of the string \"Able\""
   ]
  },
  {
   "cell_type": "markdown",
   "metadata": {},
   "source": [
    "# СПИСКИ"
   ]
  },
  {
   "cell_type": "markdown",
   "metadata": {},
   "source": [
    "5) Постройте этот список [7,7,7] двумя разными способами."
   ]
  },
  {
   "cell_type": "code",
   "execution_count": 6,
   "metadata": {},
   "outputs": [
    {
     "name": "stdout",
     "output_type": "stream",
     "text": [
      "[7, 7, 7]\n"
     ]
    }
   ],
   "source": [
    "# Метод 1\n",
    "my_list = list()\n",
    "my_list.append(7)\n",
    "my_list.append(7)\n",
    "my_list.append(7)\n",
    "print(my_list)"
   ]
  },
  {
   "cell_type": "code",
   "execution_count": 7,
   "metadata": {},
   "outputs": [
    {
     "name": "stdout",
     "output_type": "stream",
     "text": [
      "[7, 7, 7]\n"
     ]
    }
   ],
   "source": [
    "# Метод 2\n",
    "my_list = [7]\n",
    "my_list2 = [7, 7]\n",
    "my_list.extend(my_list2)\n",
    "print(my_list)"
   ]
  },
  {
   "cell_type": "markdown",
   "metadata": {},
   "source": [
    "6) Переназначить «Able» в этом вложенном списке, чтобы вместо этого сказать «Academy»:"
   ]
  },
  {
   "cell_type": "code",
   "execution_count": 8,
   "metadata": {},
   "outputs": [
    {
     "name": "stdout",
     "output_type": "stream",
     "text": [
      "[1, 2, [3, 4, 'Academy']]\n"
     ]
    }
   ],
   "source": [
    "list_1 = [1,2,[3,4,'Able']]\n",
    "# Код\n",
    "list_1[2][2] = \"Academy\"\n",
    "print(list_1)"
   ]
  },
  {
   "cell_type": "markdown",
   "metadata": {},
   "source": [
    "7) Сортировать список ниже:"
   ]
  },
  {
   "cell_type": "code",
   "execution_count": 9,
   "metadata": {},
   "outputs": [
    {
     "name": "stdout",
     "output_type": "stream",
     "text": [
      "[1, 3, 4, 5, 6]\n"
     ]
    }
   ],
   "source": [
    "list_2 = [5,3,4,6,1]\n",
    "# Код\n",
    "list_2.sort()\n",
    "print(list_2)"
   ]
  },
  {
   "cell_type": "markdown",
   "metadata": {},
   "source": [
    "# СЛОВАРИ"
   ]
  },
  {
   "cell_type": "markdown",
   "metadata": {},
   "source": [
    "8) Используя ключи и индексирование, выводите «Able» из следующих словарей:"
   ]
  },
  {
   "cell_type": "code",
   "execution_count": 10,
   "metadata": {},
   "outputs": [
    {
     "name": "stdout",
     "output_type": "stream",
     "text": [
      "Able\n"
     ]
    }
   ],
   "source": [
    "d = {'simple_key':'Able'}\n",
    "# Код\n",
    "print(d[\"simple_key\"])"
   ]
  },
  {
   "cell_type": "code",
   "execution_count": 11,
   "metadata": {},
   "outputs": [
    {
     "name": "stdout",
     "output_type": "stream",
     "text": [
      "Able\n"
     ]
    }
   ],
   "source": [
    "d = {'k1':{'k2':'Able'}}\n",
    "# Код\n",
    "print(d[\"k1\"][\"k2\"])"
   ]
  },
  {
   "cell_type": "code",
   "execution_count": 12,
   "metadata": {},
   "outputs": [
    {
     "name": "stdout",
     "output_type": "stream",
     "text": [
      "Able\n"
     ]
    }
   ],
   "source": [
    "d = {'k1':[{'k2':['k3',['Able']]}]}\n",
    "# Код\n",
    "print(d[\"k1\"][0][\"k2\"][1][0])"
   ]
  },
  {
   "cell_type": "code",
   "execution_count": 13,
   "metadata": {},
   "outputs": [
    {
     "name": "stdout",
     "output_type": "stream",
     "text": [
      "Able\n"
     ]
    }
   ],
   "source": [
    "d = {'k1':[1,2,{'k2':['k3',{'k4':[1,2,['Able']]}]}]}\n",
    "# Код\n",
    "print(d[\"k1\"][2][\"k2\"][1][\"k4\"][2][0])"
   ]
  },
  {
   "cell_type": "markdown",
   "metadata": {},
   "source": [
    "9) Вы можете отсортировать словарь? Почему или почему нет?\n",
    "Сортировать словарь не так легко как список. Однако можно сортировать словарь с помощью вызыва функции itemgetter из operator\n",
    "Для примера смотрите код ниже. Код написан мной для задания по курсу Python for Everybody от университета Мичиган. "
   ]
  },
  {
   "cell_type": "code",
   "execution_count": null,
   "metadata": {},
   "outputs": [],
   "source": [
    "# from operator import itemgetter\n",
    "# age = {\"Phil\" : 30, \"Ann\" : 10, \"Chris\" : 5}\n",
    "# print(age.items())\n",
    "\n",
    "# #sort in ascending order by key\n",
    "# print(sorted(age.items(), key=itemgetter(0))) # sort alphabetically, 0 is key\n",
    "# #sort in descending order by key\n",
    "# print(sorted(age.items(), key=itemgetter(0), reverse = True))\n",
    "# #sort in ascending order by value\n",
    "# print(sorted(age.items(), key=itemgetter(1))) # if we want to sort by value\n",
    "# #sort in descending order by value\n",
    "# print(sorted(age.items(), key=itemgetter(1), reverse = True))"
   ]
  },
  {
   "cell_type": "markdown",
   "metadata": {},
   "source": [
    "# КОРТЕЖИ"
   ]
  },
  {
   "cell_type": "markdown",
   "metadata": {},
   "source": [
    "10) В чем основное различие между кортежами и списками?"
   ]
  },
  {
   "cell_type": "code",
   "execution_count": 14,
   "metadata": {},
   "outputs": [
    {
     "name": "stdout",
     "output_type": "stream",
     "text": [
      "[1, 2, 3]\n",
      "[5, 2, 3]\n",
      "(0, 1, 2)\n"
     ]
    }
   ],
   "source": [
    "# Ответ:\n",
    "# кортежи это неизменяемая структура данных, в отличии от списков\n",
    "my_list = [1, 2, 3]\n",
    "print(my_list)\n",
    "my_tuple = (0, 1, 2)\n",
    "my_list[0] = 5 # заменит 1 на 5\n",
    "# my_tuple[0] = 5 выдаст ошибку\n",
    "print(my_list)\n",
    "print(my_tuple)"
   ]
  },
  {
   "cell_type": "markdown",
   "metadata": {},
   "source": [
    "11) Как вы создаете кортеж? Приведите пример"
   ]
  },
  {
   "cell_type": "code",
   "execution_count": 15,
   "metadata": {},
   "outputs": [
    {
     "name": "stdout",
     "output_type": "stream",
     "text": [
      "(0, 1, 2)\n"
     ]
    }
   ],
   "source": [
    "# Код\n",
    "my_tuple = (0, 1, 2)\n",
    "print(my_tuple)"
   ]
  },
  {
   "cell_type": "markdown",
   "metadata": {},
   "source": [
    "# МНОЖЕСТВА"
   ]
  },
  {
   "cell_type": "markdown",
   "metadata": {},
   "source": [
    "12) Что уникального во множестве? \n",
    "Элементы во множестве уникальны, т.е. дубликаты(например, 1 и 1, 2 и 2) невозможны"
   ]
  },
  {
   "cell_type": "markdown",
   "metadata": {},
   "source": [
    "13) Используйте набор, чтобы найти уникальные значения из списка ниже:"
   ]
  },
  {
   "cell_type": "code",
   "execution_count": 16,
   "metadata": {},
   "outputs": [
    {
     "name": "stdout",
     "output_type": "stream",
     "text": [
      "{1, 2, 33, 4, 3, 11, 22}\n"
     ]
    }
   ],
   "source": [
    "list_3 = [1,2,2,33,4,4,11,22,3,3,2]\n",
    "# Код\n",
    "my_set=set(list_3)\n",
    "print(my_set)\n"
   ]
  },
  {
   "cell_type": "markdown",
   "metadata": {},
   "source": [
    "# Прекрасная работа!"
   ]
  }
 ],
 "metadata": {
  "kernelspec": {
   "display_name": "Python 3 (ipykernel)",
   "language": "python",
   "name": "python3"
  },
  "language_info": {
   "codemirror_mode": {
    "name": "ipython",
    "version": 3
   },
   "file_extension": ".py",
   "mimetype": "text/x-python",
   "name": "python",
   "nbconvert_exporter": "python",
   "pygments_lexer": "ipython3",
   "version": "3.9.13"
  }
 },
 "nbformat": 4,
 "nbformat_minor": 2
}
