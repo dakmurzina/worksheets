{
 "cells": [
  {
   "cell_type": "markdown",
   "metadata": {
    "id": "18katKOa2oto"
   },
   "source": [
    "**Напечатайте свое имя и фамилию**\n",
    "Динара Акмурзина\n",
    "Dinara Akmurzina"
   ]
  },
  {
   "cell_type": "markdown",
   "metadata": {
    "id": "dsXij22t2ouL"
   },
   "source": [
    "# СТРОКИ"
   ]
  },
  {
   "cell_type": "markdown",
   "metadata": {
    "id": "j4Ym4--12ouO"
   },
   "source": [
    "1) Учитывая строку \"Able\", дайте команду index, которая возвращает 'e'. Введите свой код в ячейку ниже:"
   ]
  },
  {
   "cell_type": "code",
   "execution_count": 1,
   "metadata": {
    "colab": {
     "base_uri": "https://localhost:8080/"
    },
    "id": "Kla72SGP2ouP",
    "outputId": "9faa1109-aebf-4399-94f7-669db178f6b2"
   },
   "outputs": [
    {
     "name": "stdout",
     "output_type": "stream",
     "text": [
      "e\n"
     ]
    }
   ],
   "source": [
    "s = \"Able Academy\"\n",
    "# Распечатайте «е» с использованием индексирование\n",
    "for index in range(len(s)): # 0, 1, 2, 3\n",
    "    if s[index] == \"e\":\n",
    "        print(s[index])\n",
    "        break"
   ]
  },
  {
   "cell_type": "markdown",
   "metadata": {
    "id": "9GfrPe_P2ouW"
   },
   "source": [
    "2) Переверните строку \"Able\""
   ]
  },
  {
   "cell_type": "code",
   "execution_count": 2,
   "metadata": {
    "id": "mdz8Iqd62ouX",
    "outputId": "c5d2f9c3-3cf0-4436-c58b-19fad4b8986c"
   },
   "outputs": [
    {
     "name": "stdout",
     "output_type": "stream",
     "text": [
      "elbA\n"
     ]
    }
   ],
   "source": [
    "s = \"Able\"\n",
    "# Переверните строку \"Able\"\n",
    "reversed_word = reversed(s)\n",
    "reversed_word = \"\".join(reversed_word)\n",
    "print(reversed_word)"
   ]
  },
  {
   "cell_type": "markdown",
   "metadata": {
    "id": "b2GDnxmn2ouZ"
   },
   "source": [
    "3) Учитывая строку \"Able\", приведите два метода получения буквы 'l' с использованием индексации."
   ]
  },
  {
   "cell_type": "code",
   "execution_count": 3,
   "metadata": {
    "id": "ijDxIe9f2oua",
    "outputId": "53a0495d-4320-44b8-9b8c-1248f63e7591"
   },
   "outputs": [
    {
     "name": "stdout",
     "output_type": "stream",
     "text": [
      "l\n"
     ]
    }
   ],
   "source": [
    "# Распечатайте «l»\n",
    "# Метод 1\n",
    "my_string = \"Able\"\n",
    "print(my_string[2]) #indexing from the front"
   ]
  },
  {
   "cell_type": "code",
   "execution_count": 4,
   "metadata": {
    "id": "J2KbV8Qv2oub",
    "outputId": "c67d36dc-87be-4595-98e6-bf50536139ee"
   },
   "outputs": [
    {
     "name": "stdout",
     "output_type": "stream",
     "text": [
      "l\n"
     ]
    }
   ],
   "source": [
    "my_string = \"Able\"# Метод 2\n",
    "print(my_string[-2]) # indexing from the back"
   ]
  },
  {
   "cell_type": "markdown",
   "metadata": {
    "id": "06Pb5Hwa2ouc"
   },
   "source": [
    "4) Какова длина строки \"Able\"?"
   ]
  },
  {
   "cell_type": "code",
   "execution_count": 5,
   "metadata": {
    "id": "o8ULYRyN2oud",
    "outputId": "edbceede-a8e3-4e0c-b1d6-13c76c5acb6a"
   },
   "outputs": [
    {
     "name": "stdout",
     "output_type": "stream",
     "text": [
      "4\n"
     ]
    }
   ],
   "source": [
    "# Код\n",
    "my_string = \"Able\"\n",
    "print(len(my_string)) # to print the length of the string \"Able\""
   ]
  },
  {
   "cell_type": "markdown",
   "metadata": {
    "id": "GFQFXW3x2ouf"
   },
   "source": [
    "# СПИСКИ"
   ]
  },
  {
   "cell_type": "markdown",
   "metadata": {
    "id": "a77yRMwn2oug"
   },
   "source": [
    "5) Постройте этот список [7,7,7] двумя разными способами."
   ]
  },
  {
   "cell_type": "code",
   "execution_count": 6,
   "metadata": {
    "id": "FtKD8zee2ouh",
    "outputId": "0cb52e21-f675-4371-ef7c-6879c073e6f1"
   },
   "outputs": [
    {
     "name": "stdout",
     "output_type": "stream",
     "text": [
      "[7, 7, 7]\n"
     ]
    }
   ],
   "source": [
    "# Метод 1\n",
    "my_list = list()\n",
    "my_list.append(7)\n",
    "my_list.append(7)\n",
    "my_list.append(7)\n",
    "print(my_list)"
   ]
  },
  {
   "cell_type": "code",
   "execution_count": 7,
   "metadata": {
    "id": "kjClaOyW2ouj",
    "outputId": "25cdff7a-39e3-4b93-9739-dcda01ac37ed"
   },
   "outputs": [
    {
     "name": "stdout",
     "output_type": "stream",
     "text": [
      "[7, 7, 7]\n"
     ]
    }
   ],
   "source": [
    "# Метод 2\n",
    "my_list = [7]\n",
    "my_list2 = [7, 7]\n",
    "my_list.extend(my_list2)\n",
    "print(my_list)"
   ]
  },
  {
   "cell_type": "markdown",
   "metadata": {
    "id": "lCwfALM62ouk"
   },
   "source": [
    "6) Переназначить «Able» в этом вложенном списке, чтобы вместо этого сказать «Academy»:"
   ]
  },
  {
   "cell_type": "code",
   "execution_count": 8,
   "metadata": {
    "id": "78tbWb6i2oul",
    "outputId": "750bb1a5-7da1-4491-a5fc-cbb619670647"
   },
   "outputs": [
    {
     "name": "stdout",
     "output_type": "stream",
     "text": [
      "[1, 2, [3, 4, 'Academy']]\n"
     ]
    }
   ],
   "source": [
    "list_1 = [1,2,[3,4,'Able']]\n",
    "# Код\n",
    "list_1[2][2] = \"Academy\"\n",
    "print(list_1)"
   ]
  },
  {
   "cell_type": "markdown",
   "metadata": {
    "id": "VVGWCFPV2oum"
   },
   "source": [
    "7) Сортировать список ниже:"
   ]
  },
  {
   "cell_type": "code",
   "execution_count": 9,
   "metadata": {
    "id": "i6pzMd7d2oun",
    "outputId": "c2e73002-2725-4c0b-aefa-49dab29f6574"
   },
   "outputs": [
    {
     "name": "stdout",
     "output_type": "stream",
     "text": [
      "[1, 3, 4, 5, 6]\n"
     ]
    }
   ],
   "source": [
    "list_2 = [5,3,4,6,1]\n",
    "# Код\n",
    "list_2.sort()\n",
    "print(list_2)"
   ]
  },
  {
   "cell_type": "markdown",
   "metadata": {
    "id": "tlPKrfKj2ouo"
   },
   "source": [
    "# СЛОВАРИ"
   ]
  },
  {
   "cell_type": "markdown",
   "metadata": {
    "id": "IiV-3M-P2oup"
   },
   "source": [
    "8) Используя ключи и индексирование, выводите «Able» из следующих словарей:"
   ]
  },
  {
   "cell_type": "code",
   "execution_count": 10,
   "metadata": {
    "id": "Gl0DJuaS2ouq",
    "outputId": "f972be7d-c1d5-44d2-df3a-f30bb777f013"
   },
   "outputs": [
    {
     "name": "stdout",
     "output_type": "stream",
     "text": [
      "Able\n"
     ]
    }
   ],
   "source": [
    "d = {'simple_key':'Able'}\n",
    "# Код\n",
    "print(d[\"simple_key\"])"
   ]
  },
  {
   "cell_type": "code",
   "execution_count": 11,
   "metadata": {
    "id": "wXYwQPI82our",
    "outputId": "238e2021-ddbd-4e2a-c9f1-2b0922d98d25"
   },
   "outputs": [
    {
     "name": "stdout",
     "output_type": "stream",
     "text": [
      "Able\n"
     ]
    }
   ],
   "source": [
    "d = {'k1':{'k2':'Able'}}\n",
    "# Код\n",
    "print(d[\"k1\"][\"k2\"])"
   ]
  },
  {
   "cell_type": "code",
   "execution_count": 12,
   "metadata": {
    "id": "GDTgfdS42ous",
    "outputId": "477a3c38-983c-4d36-fb8e-25c30e1bd1c1"
   },
   "outputs": [
    {
     "name": "stdout",
     "output_type": "stream",
     "text": [
      "Able\n"
     ]
    }
   ],
   "source": [
    "d = {'k1':[{'k2':['k3',['Able']]}]}\n",
    "# Код\n",
    "print(d[\"k1\"][0][\"k2\"][1][0])"
   ]
  },
  {
   "cell_type": "code",
   "execution_count": 13,
   "metadata": {
    "id": "iHn79w7e2ous",
    "outputId": "4095486f-f224-4fc7-9667-b714f8d48bd8"
   },
   "outputs": [
    {
     "name": "stdout",
     "output_type": "stream",
     "text": [
      "Able\n"
     ]
    }
   ],
   "source": [
    "d = {'k1':[1,2,{'k2':['k3',{'k4':[1,2,['Able']]}]}]}\n",
    "# Код\n",
    "print(d[\"k1\"][2][\"k2\"][1][\"k4\"][2][0])"
   ]
  },
  {
   "cell_type": "markdown",
   "metadata": {
    "id": "rF1PioRr2out"
   },
   "source": [
    "9) Вы можете отсортировать словарь? Почему или почему нет?\n",
    "Сортировать словарь не так легко как список. Однако можно сортировать словарь с помощью вызыва функции itemgetter из operator\n",
    "Для примера смотрите код ниже. Код написан мной для задания по курсу Python for Everybody от университета Мичиган. "
   ]
  },
  {
   "cell_type": "code",
   "execution_count": 14,
   "metadata": {
    "colab": {
     "base_uri": "https://localhost:8080/"
    },
    "id": "ExfJyY3f2ouu",
    "outputId": "6f765f8c-afe5-4ebb-d4da-a8d807982fd5"
   },
   "outputs": [
    {
     "name": "stdout",
     "output_type": "stream",
     "text": [
      "dict_items([('Phil', 30), ('Ann', 10), ('Chris', 5)])\n",
      "[('Ann', 10), ('Chris', 5), ('Phil', 30)]\n",
      "[('Phil', 30), ('Chris', 5), ('Ann', 10)]\n",
      "[('Chris', 5), ('Ann', 10), ('Phil', 30)]\n",
      "[('Phil', 30), ('Ann', 10), ('Chris', 5)]\n"
     ]
    }
   ],
   "source": [
    "from operator import itemgetter\n",
    "age = {\"Phil\" : 30, \"Ann\" : 10, \"Chris\" : 5}\n",
    "print(age.items())\n",
    "\n",
    "#sort in ascending order by key\n",
    "print(sorted(age.items(), key=itemgetter(0))) # sort alphabetically, 0 is key\n",
    "#sort in descending order by key\n",
    "print(sorted(age.items(), key=itemgetter(0), reverse = True))\n",
    "#sort in ascending order by value\n",
    "print(sorted(age.items(), key=itemgetter(1))) # if we want to sort by value\n",
    "#sort in descending order by value\n",
    "print(sorted(age.items(), key=itemgetter(1), reverse = True))"
   ]
  },
  {
   "cell_type": "markdown",
   "metadata": {
    "id": "Pc1fLxBM2ouw"
   },
   "source": [
    "# КОРТЕЖИ"
   ]
  },
  {
   "cell_type": "markdown",
   "metadata": {
    "id": "kwEz9XZG2ouw"
   },
   "source": [
    "10) В чем основное различие между кортежами и списками?"
   ]
  },
  {
   "cell_type": "code",
   "execution_count": 15,
   "metadata": {
    "id": "yRxOP7tY2oux",
    "outputId": "d0dac380-74c5-4b37-ebb0-cc1736247943"
   },
   "outputs": [
    {
     "name": "stdout",
     "output_type": "stream",
     "text": [
      "[1, 2, 3]\n",
      "[5, 2, 3]\n",
      "(0, 1, 2)\n"
     ]
    }
   ],
   "source": [
    "# Ответ:\n",
    "# кортежи это неизменяемая структура данных, в отличии от списков\n",
    "my_list = [1, 2, 3]\n",
    "print(my_list)\n",
    "my_tuple = (0, 1, 2)\n",
    "my_list[0] = 5 # заменит 1 на 5\n",
    "# my_tuple[0] = 5 выдаст ошибку\n",
    "print(my_list)\n",
    "print(my_tuple)"
   ]
  },
  {
   "cell_type": "markdown",
   "metadata": {
    "id": "2KbPg2he2ouy"
   },
   "source": [
    "11) Как вы создаете кортеж? Приведите пример"
   ]
  },
  {
   "cell_type": "code",
   "execution_count": 16,
   "metadata": {
    "id": "5tKThxTJ2ouz",
    "outputId": "a19d4358-7ba8-43d5-fa0d-4d6906f785e3"
   },
   "outputs": [
    {
     "name": "stdout",
     "output_type": "stream",
     "text": [
      "(0, 1, 2)\n"
     ]
    }
   ],
   "source": [
    "# Код\n",
    "my_tuple = (0, 1, 2)\n",
    "print(my_tuple)"
   ]
  },
  {
   "cell_type": "markdown",
   "metadata": {
    "id": "FHDWjqQp2ou0"
   },
   "source": [
    "# МНОЖЕСТВА"
   ]
  },
  {
   "cell_type": "markdown",
   "metadata": {
    "id": "aVxVgr6E2ou1"
   },
   "source": [
    "12) Что уникального во множестве? \n",
    "Элементы во множестве уникальны, т.е. дубликаты(например, 1 и 1, 2 и 2) невозможны"
   ]
  },
  {
   "cell_type": "markdown",
   "metadata": {
    "id": "OkSbX0kH2ou2"
   },
   "source": [
    "13) Используйте набор, чтобы найти уникальные значения из списка ниже:"
   ]
  },
  {
   "cell_type": "code",
   "execution_count": 17,
   "metadata": {
    "id": "42Kr84Q32ou2",
    "outputId": "a0a48c2d-50ce-4d2a-8902-81ece53e8ab9"
   },
   "outputs": [
    {
     "name": "stdout",
     "output_type": "stream",
     "text": [
      "{1, 2, 33, 4, 3, 11, 22}\n"
     ]
    }
   ],
   "source": [
    "list_3 = [1,2,2,33,4,4,11,22,3,3,2]\n",
    "# Код\n",
    "my_set=set(list_3)\n",
    "print(my_set)\n"
   ]
  },
  {
   "cell_type": "markdown",
   "metadata": {
    "id": "Et2tq1682ou2"
   },
   "source": [
    "# Прекрасная работа!"
   ]
  }
 ],
 "metadata": {
  "colab": {
   "collapsed_sections": [],
   "provenance": []
  },
  "kernelspec": {
   "display_name": "Python 3 (ipykernel)",
   "language": "python",
   "name": "python3"
  },
  "language_info": {
   "codemirror_mode": {
    "name": "ipython",
    "version": 3
   },
   "file_extension": ".py",
   "mimetype": "text/x-python",
   "name": "python",
   "nbconvert_exporter": "python",
   "pygments_lexer": "ipython3",
   "version": "3.9.13"
  }
 },
 "nbformat": 4,
 "nbformat_minor": 1
}
