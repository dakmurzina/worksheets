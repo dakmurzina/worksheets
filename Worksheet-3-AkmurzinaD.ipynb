{
 "cells": [
  {
   "cell_type": "markdown",
   "metadata": {},
   "source": [
    "1) Используйте for, .split() и if для создания оператора, который будет печатать слова, начинающиеся с 't':"
   ]
  },
  {
   "cell_type": "code",
   "execution_count": 1,
   "metadata": {},
   "outputs": [
    {
     "name": "stdout",
     "output_type": "stream",
     "text": [
      "the\n",
      "that\n",
      "t\n",
      "this\n"
     ]
    }
   ],
   "source": [
    "st = 'Print only the words that start with t in this sentence'\n",
    "words = st.split()\n",
    "# Код\n",
    "for word in words:\n",
    "    if word.startswith(\"t\"):\n",
    "        print(word)\n"
   ]
  },
  {
   "cell_type": "markdown",
   "metadata": {},
   "source": [
    "2) Используйте range() для печати всех четных чисел от 0 до 10.(не использовать операторы for, while,if)"
   ]
  },
  {
   "cell_type": "code",
   "execution_count": 2,
   "metadata": {},
   "outputs": [
    {
     "name": "stdout",
     "output_type": "stream",
     "text": [
      "0 2 4 6 8\n"
     ]
    }
   ],
   "source": [
    "# Код\n",
    "print(*range(0,10,2))"
   ]
  },
  {
   "cell_type": "markdown",
   "metadata": {},
   "source": [
    "3) Cоздайте **список** всех чисел от 1 до 50, которые делятся на 3.(именно список)"
   ]
  },
  {
   "cell_type": "code",
   "execution_count": 3,
   "metadata": {},
   "outputs": [
    {
     "name": "stdout",
     "output_type": "stream",
     "text": [
      "[3, 6, 9, 12, 15, 18, 21, 24, 27, 30, 33, 36, 39, 42, 45, 48]\n"
     ]
    }
   ],
   "source": [
    "# Код\n",
    "list_of_int = []\n",
    "for i in range(1, 50):\n",
    "    if i%3 == 0:\n",
    "        list_of_int.append(i)\n",
    "print(list_of_int)"
   ]
  },
  {
   "cell_type": "markdown",
   "metadata": {},
   "source": [
    "4) Просмотрите строку ниже и, если длина слова четная, выведите «четное!»"
   ]
  },
  {
   "cell_type": "code",
   "execution_count": 4,
   "metadata": {},
   "outputs": [
    {
     "name": "stdout",
     "output_type": "stream",
     "text": [
      "word четное!\n",
      "in четное!\n",
      "this четное!\n",
      "sentence четное!\n",
      "that четное!\n",
      "an четное!\n",
      "even четное!\n",
      "number четное!\n",
      "of четное!\n"
     ]
    }
   ],
   "source": [
    "st = 'Print every word in this sentence that has an even number of letters'\n",
    "# Код\n",
    "words = st.split()\n",
    "for word in words:\n",
    "    if len(word)%2 == 0:\n",
    "        print(word,\"четное!\")"
   ]
  },
  {
   "cell_type": "markdown",
   "metadata": {},
   "source": [
    "5) Создайте список первых букв каждого слова в строке ниже:"
   ]
  },
  {
   "cell_type": "code",
   "execution_count": 5,
   "metadata": {},
   "outputs": [
    {
     "name": "stdout",
     "output_type": "stream",
     "text": [
      "['C', 'a', 'l', 'o', 't', 'f', 'l', 'o', 'e', 'w', 'i', 't', 's']\n"
     ]
    }
   ],
   "source": [
    "st = 'Create a list of the first letters of every word in this string'\n",
    "# Код\n",
    "first_letter = []\n",
    "words = st.split()\n",
    "for word in words:\n",
    "    first_letter.append(word[0])\n",
    "print(first_letter)"
   ]
  },
  {
   "cell_type": "markdown",
   "metadata": {},
   "source": [
    "6) Найдите сумму чисел в списке ниже: (с двумя способами)"
   ]
  },
  {
   "cell_type": "code",
   "execution_count": 6,
   "metadata": {},
   "outputs": [
    {
     "name": "stdout",
     "output_type": "stream",
     "text": [
      "55\n"
     ]
    }
   ],
   "source": [
    "l = [1,2,3,4,5,6,7,8,9,10]\n",
    "# Код 1\n",
    "\n",
    "total_l = l[0]+l[1]+l[2]+l[3]+l[4]+l[5]+l[6]+l[7]+l[8]+l[9]\n",
    "print(total_l)"
   ]
  },
  {
   "cell_type": "code",
   "execution_count": 7,
   "metadata": {},
   "outputs": [
    {
     "name": "stdout",
     "output_type": "stream",
     "text": [
      "55\n"
     ]
    }
   ],
   "source": [
    "l = [1,2,3,4,5,6,7,8,9,10]\n",
    "# Код 2\n",
    "total_l = sum(l)\n",
    "print(total_l)"
   ]
  },
  {
   "cell_type": "markdown",
   "metadata": {},
   "source": [
    "7) Напишите программу на Python, чтобы умножить все элементы в списке."
   ]
  },
  {
   "cell_type": "code",
   "execution_count": 8,
   "metadata": {},
   "outputs": [
    {
     "name": "stdout",
     "output_type": "stream",
     "text": [
      "1890\n"
     ]
    }
   ],
   "source": [
    "import numpy\n",
    "l = [2,5,7,3,9]\n",
    "multiplied = numpy.prod(l)\n",
    "print(multiplied)"
   ]
  },
  {
   "cell_type": "code",
   "execution_count": 9,
   "metadata": {},
   "outputs": [],
   "source": [
    "l = [2,5,7,3,9]\n",
    "# 2 * 5 * 7 * 3 * 9\n",
    "def multiplication(n):\n",
    "    total_mult = 1 \n",
    "    for i in n:\n",
    "        total_mult *= i\n",
    "    return total_mult"
   ]
  },
  {
   "cell_type": "code",
   "execution_count": 10,
   "metadata": {},
   "outputs": [
    {
     "data": {
      "text/plain": [
       "1890"
      ]
     },
     "execution_count": 10,
     "metadata": {},
     "output_type": "execute_result"
    }
   ],
   "source": [
    "multiplication(l)"
   ]
  },
  {
   "cell_type": "code",
   "execution_count": 11,
   "metadata": {},
   "outputs": [],
   "source": [
    "def multiplication_rec(n):\n",
    "    if len(n) == 0:\n",
    "        return 1\n",
    "    return n[0] * multiplication_rec(n[1:])"
   ]
  },
  {
   "cell_type": "code",
   "execution_count": 12,
   "metadata": {},
   "outputs": [
    {
     "data": {
      "text/plain": [
       "1890"
      ]
     },
     "execution_count": 12,
     "metadata": {},
     "output_type": "execute_result"
    }
   ],
   "source": [
    "multiplication_rec(l)"
   ]
  },
  {
   "cell_type": "markdown",
   "metadata": {},
   "source": [
    "8) Напишите программу на Python, чтобы получить наибольшее число из списка."
   ]
  },
  {
   "cell_type": "code",
   "execution_count": 13,
   "metadata": {},
   "outputs": [
    {
     "name": "stdout",
     "output_type": "stream",
     "text": [
      "101\n"
     ]
    }
   ],
   "source": [
    "l = [2,5,7,3,9,11,50,101]\n",
    "# Код\n",
    "biggest_num = 0\n",
    "for num in l:\n",
    "    while num > biggest_num:\n",
    "        biggest_num = num\n",
    "print(biggest_num)"
   ]
  },
  {
   "cell_type": "markdown",
   "metadata": {},
   "source": [
    "9) Напишите программу на Python, чтобы найти общие элементы из двух списков."
   ]
  },
  {
   "cell_type": "code",
   "execution_count": 14,
   "metadata": {},
   "outputs": [
    {
     "name": "stdout",
     "output_type": "stream",
     "text": [
      "{'Darkhan', 'Azamat'}\n"
     ]
    }
   ],
   "source": [
    "team_1 = [\"Darkhan\", \"Abilay\", \"Azamat\", \"Zhasulan\"]\n",
    "team_2 = [\"Azamat\", \"Darkhan\", \"Aset\", \"Bolat\",\"Saken\"]\n",
    "# Код\n",
    "converted_team_1 = set(team_1)\n",
    "converted_team_2 = set(team_2)\n",
    "print(converted_team_1.intersection(converted_team_2))"
   ]
  },
  {
   "cell_type": "markdown",
   "metadata": {},
   "source": [
    "10) Напишите программу на Python для расширения списка без .append()."
   ]
  },
  {
   "cell_type": "code",
   "execution_count": 15,
   "metadata": {},
   "outputs": [
    {
     "name": "stdout",
     "output_type": "stream",
     "text": [
      "[10, 20, 30, 1, 2, 3, 4, 5, 6]\n"
     ]
    }
   ],
   "source": [
    "l_1 = [10,20,30]\n",
    "l_2 = [1,2,3,4,5,6]\n",
    "# Вывод должен быть: [10,20,30,1,2,3,4,5,6]\n",
    "# Код      \n",
    "print(l_1+l_2)"
   ]
  },
  {
   "cell_type": "code",
   "execution_count": 16,
   "metadata": {},
   "outputs": [
    {
     "name": "stdout",
     "output_type": "stream",
     "text": [
      "[10, 20, 30, 1, 2, 3, 4, 5, 6]\n"
     ]
    }
   ],
   "source": [
    "l_1 = [10,20,30]\n",
    "l_2 = [1,2,3,4,5,6]\n",
    "l_1.extend(l_2)\n",
    "print(l_1)"
   ]
  },
  {
   "cell_type": "markdown",
   "metadata": {},
   "source": [
    "11) Напишите программу на Python для суммирования всех элементов в словаре."
   ]
  },
  {
   "cell_type": "code",
   "execution_count": 17,
   "metadata": {},
   "outputs": [
    {
     "name": "stdout",
     "output_type": "stream",
     "text": [
      "293\n"
     ]
    }
   ],
   "source": [
    "my_dict = {'data1':100,'data2':-54,'data3':247}\n",
    "# Код\n",
    "my_list = []\n",
    "# можно создать пустой список и добавить в него значания всех существующих ключей в словаре с помощью for loop\n",
    "for k in my_dict.keys():\n",
    "    my_list.append(my_dict[k])\n",
    "# затем посчитать сумму списка со всеми \n",
    "total_data = sum(my_list)\n",
    "print(total_data)"
   ]
  },
  {
   "cell_type": "code",
   "execution_count": 18,
   "metadata": {},
   "outputs": [
    {
     "name": "stdout",
     "output_type": "stream",
     "text": [
      "293\n"
     ]
    }
   ],
   "source": [
    "my_dict = {'data1':100,'data2':-54,'data3':247}\n",
    "sum_dict = 0\n",
    "for v in my_dict.values():\n",
    "    sum_dict += v\n",
    "print(sum_dict)  "
   ]
  },
  {
   "cell_type": "code",
   "execution_count": 19,
   "metadata": {},
   "outputs": [
    {
     "name": "stdout",
     "output_type": "stream",
     "text": [
      "293\n"
     ]
    }
   ],
   "source": [
    "my_dict = {'data1':100,'data2':-54,'data3':247}\n",
    "print(sum(my_dict.values()))"
   ]
  },
  {
   "cell_type": "markdown",
   "metadata": {},
   "source": [
    "12) Напишите программу на Python, чтобы получить максимальное и минимальное значение в словаре."
   ]
  },
  {
   "cell_type": "code",
   "execution_count": 21,
   "metadata": {},
   "outputs": [
    {
     "name": "stdout",
     "output_type": "stream",
     "text": [
      "247 -54\n"
     ]
    }
   ],
   "source": [
    "my_dict = {'data1':100,'data2':-54,'data3':247}\n",
    "# Код\n",
    "list_of_numbers = my_dict.values()\n",
    "sorted_list = sorted(list_of_numbers)\n",
    "biggest_number = sorted_list[-1]\n",
    "smallest_number = sorted_list[0]\n",
    "print(biggest_number, smallest_number)\n",
    "# think about this code before submitting it    "
   ]
  },
  {
   "cell_type": "markdown",
   "metadata": {},
   "source": [
    "13) Напишите программу на Python, чтобы найти те числа, которые делятся на 7 и кратны 5, между 1500 и 2700 (оба включены)."
   ]
  },
  {
   "cell_type": "code",
   "execution_count": 22,
   "metadata": {},
   "outputs": [
    {
     "name": "stdout",
     "output_type": "stream",
     "text": [
      "1505\n",
      "1540\n",
      "1575\n",
      "1610\n",
      "1645\n",
      "1680\n",
      "1715\n",
      "1750\n",
      "1785\n",
      "1820\n",
      "1855\n",
      "1890\n",
      "1925\n",
      "1960\n",
      "1995\n",
      "2030\n",
      "2065\n",
      "2100\n",
      "2135\n",
      "2170\n",
      "2205\n",
      "2240\n",
      "2275\n",
      "2310\n",
      "2345\n",
      "2380\n",
      "2415\n",
      "2450\n",
      "2485\n",
      "2520\n",
      "2555\n",
      "2590\n",
      "2625\n",
      "2660\n",
      "2695\n"
     ]
    }
   ],
   "source": [
    "for num in range(1500, 2700+1):\n",
    "    if num%7 == 0 and num%5 ==0:\n",
    "        print(num)"
   ]
  },
  {
   "cell_type": "markdown",
   "metadata": {},
   "source": [
    "14) Напишите программу на Python для подсчета количества четных и нечетных чисел из серии чисел."
   ]
  },
  {
   "cell_type": "code",
   "execution_count": 23,
   "metadata": {},
   "outputs": [
    {
     "name": "stdout",
     "output_type": "stream",
     "text": [
      "6\n",
      "5\n"
     ]
    }
   ],
   "source": [
    "numbers = (10,11,12,13,14,15,16,17,18,19,20)\n",
    "# Код\n",
    "even_nums = 0\n",
    "odd_nums = 0\n",
    "for number in numbers:\n",
    "    if number%2 ==0:\n",
    "        even_nums += 1\n",
    "    elif number%2 !=0:\n",
    "        odd_nums +=1\n",
    "print(even_nums)\n",
    "print(odd_nums)\n"
   ]
  },
  {
   "cell_type": "markdown",
   "metadata": {},
   "source": [
    "15) Напишите программу на Python, чтобы получить ряд Фибоначчи от 0 до 50."
   ]
  },
  {
   "cell_type": "code",
   "execution_count": 24,
   "metadata": {},
   "outputs": [
    {
     "name": "stdout",
     "output_type": "stream",
     "text": [
      "0\n",
      "1\n",
      "1\n",
      "2\n",
      "3\n",
      "5\n",
      "8\n",
      "13\n",
      "21\n",
      "34\n",
      "55\n",
      "89\n",
      "144\n",
      "233\n",
      "377\n",
      "610\n",
      "987\n",
      "1597\n",
      "2584\n",
      "4181\n",
      "6765\n",
      "10946\n",
      "17711\n",
      "28657\n",
      "46368\n",
      "75025\n",
      "121393\n",
      "196418\n",
      "317811\n",
      "514229\n",
      "832040\n",
      "1346269\n",
      "2178309\n",
      "3524578\n",
      "5702887\n",
      "9227465\n",
      "14930352\n",
      "24157817\n",
      "39088169\n",
      "63245986\n",
      "102334155\n",
      "165580141\n",
      "267914296\n",
      "433494437\n",
      "701408733\n",
      "1134903170\n",
      "1836311903\n",
      "2971215073\n",
      "4807526976\n",
      "7778742049\n"
     ]
    }
   ],
   "source": [
    "FibArray = [0, 1]\n",
    " \n",
    "def fibonacci(n):\n",
    "    if n < 0:\n",
    "        print(\"Incorrect input\")\n",
    "    elif n < len(FibArray):\n",
    "        return FibArray[n]\n",
    "    else:\n",
    "        FibArray.append(fibonacci(n - 1) + fibonacci(n - 2))\n",
    "        return FibArray[n]\n",
    "for i in range(0,50):\n",
    "    print(fibonacci(i))\n",
    "\n",
    "    "
   ]
  },
  {
   "cell_type": "markdown",
   "metadata": {},
   "source": [
    "16) Напишите программу на Python для расчета возраста собаки по собачьим годам.(Для заданного числа 12, вывод должен быть 61 = 2x10.5+10x4)\n",
    "\n",
    "**Примечание: в течение первых двух лет год собаки равен 10,5 человеческим годам. После этого каждый год собаки равен 4 человеческим годам.**"
   ]
  },
  {
   "cell_type": "code",
   "execution_count": 25,
   "metadata": {},
   "outputs": [
    {
     "name": "stdout",
     "output_type": "stream",
     "text": [
      "How old is your dog?5\n",
      "33.0\n"
     ]
    }
   ],
   "source": [
    "dog_age = input(\"How old is your dog?\")\n",
    "num = int(dog_age) - 2\n",
    "convert_to_human_age = (2*10.5)+(num*4)\n",
    "print(convert_to_human_age)"
   ]
  },
  {
   "cell_type": "markdown",
   "metadata": {},
   "source": [
    "17) Напишите программу на Python для преобразования названия месяца в количество дней."
   ]
  },
  {
   "cell_type": "code",
   "execution_count": 26,
   "metadata": {},
   "outputs": [
    {
     "name": "stdout",
     "output_type": "stream",
     "text": [
      "Enter the name of a month: january\n",
      "31\n"
     ]
    }
   ],
   "source": [
    "months_to_days_dict = {\"january\": 31, \"february\": 28, \"march\": 31, \"april\": 30, \"may\": 31, \"june\": 30, \"july\": 31, \"august\": 31, \"september\": 30, \"october\": 31, \"november\": 30, \"december\": 31}\n",
    "month = input(\"Enter the name of a month: \")\n",
    "days = 0\n",
    "month_lowercase = month.lower()\n",
    "if month_lowercase in months_to_days_dict:\n",
    "    days = months_to_days_dict[month_lowercase] \n",
    "    print(days)\n",
    "else:\n",
    "    print(\"Incorrect input. Enter the name of a month, please: \")"
   ]
  },
  {
   "cell_type": "markdown",
   "metadata": {},
   "source": [
    "18) Проверьте является ли слово палиндромом или нет. \n",
    "\n",
    "**Примечание: Строка считается палиндромом, если она читается одинаково в обоих направлениях.**"
   ]
  },
  {
   "cell_type": "code",
   "execution_count": 27,
   "metadata": {},
   "outputs": [
    {
     "name": "stdout",
     "output_type": "stream",
     "text": [
      "True\n"
     ]
    }
   ],
   "source": [
    "word = \"aibohphobia\"\n",
    "# Код\n",
    "rev_word = reversed(list(word))\n",
    "rev_word2 = \"\".join(rev_word)\n",
    "if word==rev_word2:\n",
    "    print(\"True\")\n",
    "else:\n",
    "    print(\"False\")"
   ]
  },
  {
   "cell_type": "markdown",
   "metadata": {},
   "source": [
    "19) Рядом стоят несколько студентов, у каждого из которых написано какое-то число на спине. Учащиеся собираются разделиться на две команды, отсчитав их по две: те, кто стоит на четных позициях (на основе 0), перейдут в команду А, а те, кто стоит на нечетной позиции, присоединятся к команде В.\n",
    "\n",
    "Ваша задача - вычислить разницу между суммами чисел, написанными на спинах студентов, которые присоединятся к команде А, и теми, которые написаны на спинах студентов, которые присоединятся к команде Б."
   ]
  },
  {
   "cell_type": "code",
   "execution_count": 28,
   "metadata": {},
   "outputs": [
    {
     "name": "stdout",
     "output_type": "stream",
     "text": [
      "13\n"
     ]
    }
   ],
   "source": [
    "students = [1, 11, 13, 6, 14, 10, 23, 25, 16, 23, 30, 9]\n",
    "# Код\n",
    "team_a=[]\n",
    "team_b=[]\n",
    "for indx in range(len(students)):\n",
    "    if indx%2 ==0:\n",
    "        team_a.append(students[indx])\n",
    "    else:\n",
    "        team_b.append(students[indx])\n",
    "dif=sum(team_a) - sum(team_b)\n",
    "print(dif)"
   ]
  },
  {
   "cell_type": "markdown",
   "metadata": {},
   "source": [
    "20) Напишите программу на Python, чтобы найти числа от 100 до 400 (оба включены), где каждая цифра числа является четным числом. Полученные числа должны быть напечатаны в последовательности через запятую."
   ]
  },
  {
   "cell_type": "code",
   "execution_count": 29,
   "metadata": {},
   "outputs": [
    {
     "name": "stdout",
     "output_type": "stream",
     "text": [
      "200, 202, 204, 206, 208, 220, 222, 224, 226, 228, 240, 242, 244, 246, 248, 260, 262, 264, 266, 268, 280, 282, 284, 286, 288, 400\n"
     ]
    }
   ],
   "source": [
    "even_nums = []\n",
    "for i in range(100, 400+1, 2):\n",
    "    if int((str(i)[0]))%2==0 and int((str(i)[1]))%2==0 and int((str(i)[2]))%2==0:\n",
    "        even_nums.append(str(i))\n",
    "print(\", \".join(even_nums))"
   ]
  },
  {
   "cell_type": "markdown",
   "metadata": {},
   "source": [
    "# Прекрасная работа!"
   ]
  }
 ],
 "metadata": {
  "kernelspec": {
   "display_name": "Python 3 (ipykernel)",
   "language": "python",
   "name": "python3"
  },
  "language_info": {
   "codemirror_mode": {
    "name": "ipython",
    "version": 3
   },
   "file_extension": ".py",
   "mimetype": "text/x-python",
   "name": "python",
   "nbconvert_exporter": "python",
   "pygments_lexer": "ipython3",
   "version": "3.9.13"
  }
 },
 "nbformat": 4,
 "nbformat_minor": 2
}
